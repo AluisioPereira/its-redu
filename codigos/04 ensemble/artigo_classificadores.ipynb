{
  "nbformat": 4,
  "nbformat_minor": 0,
  "metadata": {
    "colab": {
      "provenance": [],
      "collapsed_sections": [
        "5jngtnmT34xX",
        "VM7s5H1--WFJ",
        "qfY1kPQzdMIN",
        "Vbb8MLh8eQDH"
      ],
      "toc_visible": true
    },
    "kernelspec": {
      "name": "python3",
      "display_name": "Python 3"
    },
    "language_info": {
      "name": "python"
    }
  },
  "cells": [
    {
      "cell_type": "markdown",
      "metadata": {
        "id": "5jngtnmT34xX"
      },
      "source": [
        "#### Importes"
      ]
    },
    {
      "cell_type": "code",
      "execution_count": null,
      "metadata": {
        "id": "E2yDGGVDH19U"
      },
      "outputs": [],
      "source": [
        "!pip install sklearn_lvq\n",
        "!pip3 install memory_profiler\n",
        "!pip3 install optuna\n",
        "!pip install sklvq\n",
        "!pip install yellowbrick\n",
        "!pip install imblearn"
      ]
    },
    {
      "cell_type": "code",
      "execution_count": null,
      "metadata": {
        "id": "XgNTFBin9wbO"
      },
      "outputs": [],
      "source": [
        "import numpy\n",
        "import numpy as np\n",
        "import pandas as pd\n",
        "import sklvq\n",
        "from sklvq import GLVQ\n",
        "import itertools\n",
        "import matplotlib.pyplot as plt\n",
        "%matplotlib inline\n",
        "import time\n",
        "import os\n",
        "import sys\n",
        "import requests\n",
        "from sklearn import datasets\n",
        "from sklearn.utils import Bunch\n",
        "from memory_profiler import memory_usage\n",
        "import optuna\n",
        "from sklearn.metrics import accuracy_score\n",
        "from sklearn import metrics\n",
        "\n",
        "from numpy import mean\n",
        "from numpy import std\n",
        "from sklearn.datasets import make_classification\n",
        "from sklearn.model_selection import cross_val_score\n",
        "from sklearn.model_selection import RepeatedStratifiedKFold\n",
        "from sklearn.ensemble import BaggingClassifier\n",
        "from sklearn.ensemble import GradientBoostingClassifier\n",
        "from sklearn.ensemble import StackingClassifier\n",
        "from sklearn.ensemble import AdaBoostClassifier\n",
        "# Importando as bibliotecas necessárias\n",
        "from sklearn.ensemble import VotingClassifier\n",
        "from matplotlib import pyplot\n",
        "\n",
        "from sklearn.datasets import make_classification\n",
        "from sklearn.model_selection import cross_val_score\n",
        "from sklearn.model_selection import RepeatedStratifiedKFold\n",
        "from sklearn.linear_model import LogisticRegression\n",
        "from sklearn.neighbors import KNeighborsClassifier\n",
        "from sklearn.tree import DecisionTreeClassifier\n",
        "from sklearn.svm import SVC\n",
        "from sklearn.naive_bayes import GaussianNB\n",
        "\n",
        "# modelos\n",
        "# knn\n",
        "from sklearn.neighbors import KNeighborsClassifier\n",
        "import matplotlib as mpl\n",
        "\n",
        "# Máquinas de vetor de suporte\n",
        "from sklearn import svm\n",
        "from sklearn.svm import SVC\n",
        "from sklearn import datasets\n",
        "\n",
        "# para gerar os gráficos da árvore de decisão\n",
        "from sklearn.tree import DecisionTreeClassifier, export_text, export_graphviz, plot_tree\n",
        "try:\n",
        "    from StringIO import StringIO ## para Python 2\n",
        "except ImportError:\n",
        "    from io import StringIO ## para Python 3\n",
        "from IPython.display import Image\n",
        "import pydotplus\n",
        "\n",
        "# RNA\n",
        "plt.style.use('seaborn-talk')\n",
        "from sklearn.neural_network import MLPClassifier\n",
        "from sklearn.model_selection import GridSearchCV, train_test_split, cross_val_score, StratifiedKFold\n",
        "from sklearn.metrics import classification_report, confusion_matrix\n",
        "from sklearn.model_selection import RepeatedKFold\n",
        "\n",
        "\n",
        "# metricas e plots\n",
        "\n",
        "from numpy.ma.extras import average\n",
        "from sklearn.metrics import f1_score\n",
        "from sklearn.model_selection import RepeatedKFold\n",
        "\n",
        "from sklearn.linear_model import Ridge\n",
        "from sklearn.model_selection import train_test_split\n",
        "\n",
        "from yellowbrick.datasets import load_concrete\n",
        "from yellowbrick.regressor import ResidualsPlot\n",
        "\n",
        "from sklearn.metrics import confusion_matrix, ConfusionMatrixDisplay\n",
        "from matplotlib import pyplot as plt\n",
        "import seaborn as sns\n",
        "import seaborn as sn"
      ]
    },
    {
      "cell_type": "markdown",
      "metadata": {
        "id": "VM7s5H1--WFJ"
      },
      "source": [
        "# 1 - Análise Exploratória dos Dados\n",
        "Realizou-se a importação dos dados e analisou-se inicialmente, verificando a distribuição, as classes existentes, frequência de ocorrência, correlação, e informações quantidade, para entender o conjunto de dados."
      ]
    },
    {
      "cell_type": "code",
      "source": [
        "# importando a base de dados - Interaçãoes dos Estudantes\n",
        "!wget \"https://github.com/AluisioPereira/artigo_ensemble/blob/main/padrao_interacao_ef_em.csv\" -O \"DADOS.csv\" -"
      ],
      "metadata": {
        "id": "q48Jh7MrfhMx"
      },
      "execution_count": null,
      "outputs": []
    },
    {
      "cell_type": "code",
      "source": [
        "db = pd.read_csv(\"DADOS.csv\",  sep=\",\", encoding = \"ISO-8859-1\", low_memory=False)\n"
      ],
      "metadata": {
        "id": "eOKlm9LAivC9"
      },
      "execution_count": null,
      "outputs": []
    },
    {
      "cell_type": "code",
      "source": [
        "db.head()"
      ],
      "metadata": {
        "colab": {
          "base_uri": "https://localhost:8080/"
        },
        "id": "HdAWP2HRkv-Q",
        "outputId": "04a1d826-2449-4892-da12-39a76acd6847"
      },
      "execution_count": null,
      "outputs": [
        {
          "output_type": "execute_result",
          "data": {
            "text/plain": [
              "   id-aluno  id-turma     serie       ensino  login-count  \\\n",
              "0       441        30  7-ano-ef  fundamental          240   \n",
              "1       731        30  7-ano-ef  fundamental          182   \n",
              "2      1514        30  7-ano-ef  fundamental          469   \n",
              "3      1720        30  7-ano-ef  fundamental          600   \n",
              "4      1872        32  8-ano-ef  fundamental          290   \n",
              "\n",
              "   ano-cadastro-usuario  dias-ultimo-login    var01    var02    var03  \\\n",
              "0                  2019                215  0.10350  0.08503  0.00000   \n",
              "1                  2020                205  0.74045  0.75416  0.70588   \n",
              "2                  2020                215  0.10828  0.08133  0.35294   \n",
              "3                  2020                215  0.45701  0.43623  0.23529   \n",
              "4                  2020                214  0.14650  0.14787  0.82353   \n",
              "\n",
              "     var04    var05    var06  var07    var08    var09    var10  var11  \\\n",
              "0  1.00000  1.00000  0.02439    0.0  0.00000  0.21416  0.16129  TARDE   \n",
              "1  0.39259  0.38930  0.03659    1.0  0.52459  1.00000  1.00000  NOITE   \n",
              "2  0.56889  0.57058  0.00000    1.0  0.31148  0.67185  0.23502  TARDE   \n",
              "3  0.95407  0.95691  0.00000    0.0  0.13115  0.20725  0.26728  NOITE   \n",
              "4  0.96593  0.92125  0.39024    0.5  0.01639  0.36269  0.22120  TARDE   \n",
              "\n",
              "     cluster          padrao  \n",
              "0  Cluster 1  mais interagem  \n",
              "1  Cluster 1  mais interagem  \n",
              "2  Cluster 1  mais interagem  \n",
              "3  Cluster 1  mais interagem  \n",
              "4  Cluster 1  mais interagem  "
            ],
            "text/html": [
              "\n",
              "  <div id=\"df-ea5cbfd4-9905-4ca1-8a14-43da754600b2\">\n",
              "    <div class=\"colab-df-container\">\n",
              "      <div>\n",
              "<style scoped>\n",
              "    .dataframe tbody tr th:only-of-type {\n",
              "        vertical-align: middle;\n",
              "    }\n",
              "\n",
              "    .dataframe tbody tr th {\n",
              "        vertical-align: top;\n",
              "    }\n",
              "\n",
              "    .dataframe thead th {\n",
              "        text-align: right;\n",
              "    }\n",
              "</style>\n",
              "<table border=\"1\" class=\"dataframe\">\n",
              "  <thead>\n",
              "    <tr style=\"text-align: right;\">\n",
              "      <th></th>\n",
              "      <th>id-aluno</th>\n",
              "      <th>id-turma</th>\n",
              "      <th>serie</th>\n",
              "      <th>ensino</th>\n",
              "      <th>login-count</th>\n",
              "      <th>ano-cadastro-usuario</th>\n",
              "      <th>dias-ultimo-login</th>\n",
              "      <th>var01</th>\n",
              "      <th>var02</th>\n",
              "      <th>var03</th>\n",
              "      <th>var04</th>\n",
              "      <th>var05</th>\n",
              "      <th>var06</th>\n",
              "      <th>var07</th>\n",
              "      <th>var08</th>\n",
              "      <th>var09</th>\n",
              "      <th>var10</th>\n",
              "      <th>var11</th>\n",
              "      <th>cluster</th>\n",
              "      <th>padrao</th>\n",
              "    </tr>\n",
              "  </thead>\n",
              "  <tbody>\n",
              "    <tr>\n",
              "      <th>0</th>\n",
              "      <td>441</td>\n",
              "      <td>30</td>\n",
              "      <td>7-ano-ef</td>\n",
              "      <td>fundamental</td>\n",
              "      <td>240</td>\n",
              "      <td>2019</td>\n",
              "      <td>215</td>\n",
              "      <td>0.10350</td>\n",
              "      <td>0.08503</td>\n",
              "      <td>0.00000</td>\n",
              "      <td>1.00000</td>\n",
              "      <td>1.00000</td>\n",
              "      <td>0.02439</td>\n",
              "      <td>0.0</td>\n",
              "      <td>0.00000</td>\n",
              "      <td>0.21416</td>\n",
              "      <td>0.16129</td>\n",
              "      <td>TARDE</td>\n",
              "      <td>Cluster 1</td>\n",
              "      <td>mais interagem</td>\n",
              "    </tr>\n",
              "    <tr>\n",
              "      <th>1</th>\n",
              "      <td>731</td>\n",
              "      <td>30</td>\n",
              "      <td>7-ano-ef</td>\n",
              "      <td>fundamental</td>\n",
              "      <td>182</td>\n",
              "      <td>2020</td>\n",
              "      <td>205</td>\n",
              "      <td>0.74045</td>\n",
              "      <td>0.75416</td>\n",
              "      <td>0.70588</td>\n",
              "      <td>0.39259</td>\n",
              "      <td>0.38930</td>\n",
              "      <td>0.03659</td>\n",
              "      <td>1.0</td>\n",
              "      <td>0.52459</td>\n",
              "      <td>1.00000</td>\n",
              "      <td>1.00000</td>\n",
              "      <td>NOITE</td>\n",
              "      <td>Cluster 1</td>\n",
              "      <td>mais interagem</td>\n",
              "    </tr>\n",
              "    <tr>\n",
              "      <th>2</th>\n",
              "      <td>1514</td>\n",
              "      <td>30</td>\n",
              "      <td>7-ano-ef</td>\n",
              "      <td>fundamental</td>\n",
              "      <td>469</td>\n",
              "      <td>2020</td>\n",
              "      <td>215</td>\n",
              "      <td>0.10828</td>\n",
              "      <td>0.08133</td>\n",
              "      <td>0.35294</td>\n",
              "      <td>0.56889</td>\n",
              "      <td>0.57058</td>\n",
              "      <td>0.00000</td>\n",
              "      <td>1.0</td>\n",
              "      <td>0.31148</td>\n",
              "      <td>0.67185</td>\n",
              "      <td>0.23502</td>\n",
              "      <td>TARDE</td>\n",
              "      <td>Cluster 1</td>\n",
              "      <td>mais interagem</td>\n",
              "    </tr>\n",
              "    <tr>\n",
              "      <th>3</th>\n",
              "      <td>1720</td>\n",
              "      <td>30</td>\n",
              "      <td>7-ano-ef</td>\n",
              "      <td>fundamental</td>\n",
              "      <td>600</td>\n",
              "      <td>2020</td>\n",
              "      <td>215</td>\n",
              "      <td>0.45701</td>\n",
              "      <td>0.43623</td>\n",
              "      <td>0.23529</td>\n",
              "      <td>0.95407</td>\n",
              "      <td>0.95691</td>\n",
              "      <td>0.00000</td>\n",
              "      <td>0.0</td>\n",
              "      <td>0.13115</td>\n",
              "      <td>0.20725</td>\n",
              "      <td>0.26728</td>\n",
              "      <td>NOITE</td>\n",
              "      <td>Cluster 1</td>\n",
              "      <td>mais interagem</td>\n",
              "    </tr>\n",
              "    <tr>\n",
              "      <th>4</th>\n",
              "      <td>1872</td>\n",
              "      <td>32</td>\n",
              "      <td>8-ano-ef</td>\n",
              "      <td>fundamental</td>\n",
              "      <td>290</td>\n",
              "      <td>2020</td>\n",
              "      <td>214</td>\n",
              "      <td>0.14650</td>\n",
              "      <td>0.14787</td>\n",
              "      <td>0.82353</td>\n",
              "      <td>0.96593</td>\n",
              "      <td>0.92125</td>\n",
              "      <td>0.39024</td>\n",
              "      <td>0.5</td>\n",
              "      <td>0.01639</td>\n",
              "      <td>0.36269</td>\n",
              "      <td>0.22120</td>\n",
              "      <td>TARDE</td>\n",
              "      <td>Cluster 1</td>\n",
              "      <td>mais interagem</td>\n",
              "    </tr>\n",
              "  </tbody>\n",
              "</table>\n",
              "</div>\n",
              "      <button class=\"colab-df-convert\" onclick=\"convertToInteractive('df-ea5cbfd4-9905-4ca1-8a14-43da754600b2')\"\n",
              "              title=\"Convert this dataframe to an interactive table.\"\n",
              "              style=\"display:none;\">\n",
              "        \n",
              "  <svg xmlns=\"http://www.w3.org/2000/svg\" height=\"24px\"viewBox=\"0 0 24 24\"\n",
              "       width=\"24px\">\n",
              "    <path d=\"M0 0h24v24H0V0z\" fill=\"none\"/>\n",
              "    <path d=\"M18.56 5.44l.94 2.06.94-2.06 2.06-.94-2.06-.94-.94-2.06-.94 2.06-2.06.94zm-11 1L8.5 8.5l.94-2.06 2.06-.94-2.06-.94L8.5 2.5l-.94 2.06-2.06.94zm10 10l.94 2.06.94-2.06 2.06-.94-2.06-.94-.94-2.06-.94 2.06-2.06.94z\"/><path d=\"M17.41 7.96l-1.37-1.37c-.4-.4-.92-.59-1.43-.59-.52 0-1.04.2-1.43.59L10.3 9.45l-7.72 7.72c-.78.78-.78 2.05 0 2.83L4 21.41c.39.39.9.59 1.41.59.51 0 1.02-.2 1.41-.59l7.78-7.78 2.81-2.81c.8-.78.8-2.07 0-2.86zM5.41 20L4 18.59l7.72-7.72 1.47 1.35L5.41 20z\"/>\n",
              "  </svg>\n",
              "      </button>\n",
              "      \n",
              "  <style>\n",
              "    .colab-df-container {\n",
              "      display:flex;\n",
              "      flex-wrap:wrap;\n",
              "      gap: 12px;\n",
              "    }\n",
              "\n",
              "    .colab-df-convert {\n",
              "      background-color: #E8F0FE;\n",
              "      border: none;\n",
              "      border-radius: 50%;\n",
              "      cursor: pointer;\n",
              "      display: none;\n",
              "      fill: #1967D2;\n",
              "      height: 32px;\n",
              "      padding: 0 0 0 0;\n",
              "      width: 32px;\n",
              "    }\n",
              "\n",
              "    .colab-df-convert:hover {\n",
              "      background-color: #E2EBFA;\n",
              "      box-shadow: 0px 1px 2px rgba(60, 64, 67, 0.3), 0px 1px 3px 1px rgba(60, 64, 67, 0.15);\n",
              "      fill: #174EA6;\n",
              "    }\n",
              "\n",
              "    [theme=dark] .colab-df-convert {\n",
              "      background-color: #3B4455;\n",
              "      fill: #D2E3FC;\n",
              "    }\n",
              "\n",
              "    [theme=dark] .colab-df-convert:hover {\n",
              "      background-color: #434B5C;\n",
              "      box-shadow: 0px 1px 3px 1px rgba(0, 0, 0, 0.15);\n",
              "      filter: drop-shadow(0px 1px 2px rgba(0, 0, 0, 0.3));\n",
              "      fill: #FFFFFF;\n",
              "    }\n",
              "  </style>\n",
              "\n",
              "      <script>\n",
              "        const buttonEl =\n",
              "          document.querySelector('#df-ea5cbfd4-9905-4ca1-8a14-43da754600b2 button.colab-df-convert');\n",
              "        buttonEl.style.display =\n",
              "          google.colab.kernel.accessAllowed ? 'block' : 'none';\n",
              "\n",
              "        async function convertToInteractive(key) {\n",
              "          const element = document.querySelector('#df-ea5cbfd4-9905-4ca1-8a14-43da754600b2');\n",
              "          const dataTable =\n",
              "            await google.colab.kernel.invokeFunction('convertToInteractive',\n",
              "                                                     [key], {});\n",
              "          if (!dataTable) return;\n",
              "\n",
              "          const docLinkHtml = 'Like what you see? Visit the ' +\n",
              "            '<a target=\"_blank\" href=https://colab.research.google.com/notebooks/data_table.ipynb>data table notebook</a>'\n",
              "            + ' to learn more about interactive tables.';\n",
              "          element.innerHTML = '';\n",
              "          dataTable['output_type'] = 'display_data';\n",
              "          await google.colab.output.renderOutput(dataTable, element);\n",
              "          const docLink = document.createElement('div');\n",
              "          docLink.innerHTML = docLinkHtml;\n",
              "          element.appendChild(docLink);\n",
              "        }\n",
              "      </script>\n",
              "    </div>\n",
              "  </div>\n",
              "  "
            ]
          },
          "metadata": {},
          "execution_count": 5
        }
      ]
    },
    {
      "cell_type": "code",
      "execution_count": null,
      "metadata": {
        "colab": {
          "base_uri": "https://localhost:8080/"
        },
        "id": "JjP4hXGKDYaI",
        "outputId": "c4c9e498-6e10-4d16-d88d-8701775665ee"
      },
      "outputs": [
        {
          "output_type": "execute_result",
          "data": {
            "text/plain": [
              "     var01    var02    var03    var04    var05    var06  var07    var08  \\\n",
              "0  0.10350  0.08503  0.00000  1.00000  1.00000  0.02439    0.0  0.00000   \n",
              "1  0.74045  0.75416  0.70588  0.39259  0.38930  0.03659    1.0  0.52459   \n",
              "2  0.10828  0.08133  0.35294  0.56889  0.57058  0.00000    1.0  0.31148   \n",
              "3  0.45701  0.43623  0.23529  0.95407  0.95691  0.00000    0.0  0.13115   \n",
              "4  0.14650  0.14787  0.82353  0.96593  0.92125  0.39024    0.5  0.01639   \n",
              "\n",
              "     var09    var10  var11          padrao  \n",
              "0  0.21416  0.16129  TARDE  mais interagem  \n",
              "1  1.00000  1.00000  NOITE  mais interagem  \n",
              "2  0.67185  0.23502  TARDE  mais interagem  \n",
              "3  0.20725  0.26728  NOITE  mais interagem  \n",
              "4  0.36269  0.22120  TARDE  mais interagem  "
            ],
            "text/html": [
              "\n",
              "  <div id=\"df-e0207a9b-0cfa-4f7b-9ecd-7aee86387ba2\">\n",
              "    <div class=\"colab-df-container\">\n",
              "      <div>\n",
              "<style scoped>\n",
              "    .dataframe tbody tr th:only-of-type {\n",
              "        vertical-align: middle;\n",
              "    }\n",
              "\n",
              "    .dataframe tbody tr th {\n",
              "        vertical-align: top;\n",
              "    }\n",
              "\n",
              "    .dataframe thead th {\n",
              "        text-align: right;\n",
              "    }\n",
              "</style>\n",
              "<table border=\"1\" class=\"dataframe\">\n",
              "  <thead>\n",
              "    <tr style=\"text-align: right;\">\n",
              "      <th></th>\n",
              "      <th>var01</th>\n",
              "      <th>var02</th>\n",
              "      <th>var03</th>\n",
              "      <th>var04</th>\n",
              "      <th>var05</th>\n",
              "      <th>var06</th>\n",
              "      <th>var07</th>\n",
              "      <th>var08</th>\n",
              "      <th>var09</th>\n",
              "      <th>var10</th>\n",
              "      <th>var11</th>\n",
              "      <th>padrao</th>\n",
              "    </tr>\n",
              "  </thead>\n",
              "  <tbody>\n",
              "    <tr>\n",
              "      <th>0</th>\n",
              "      <td>0.10350</td>\n",
              "      <td>0.08503</td>\n",
              "      <td>0.00000</td>\n",
              "      <td>1.00000</td>\n",
              "      <td>1.00000</td>\n",
              "      <td>0.02439</td>\n",
              "      <td>0.0</td>\n",
              "      <td>0.00000</td>\n",
              "      <td>0.21416</td>\n",
              "      <td>0.16129</td>\n",
              "      <td>TARDE</td>\n",
              "      <td>mais interagem</td>\n",
              "    </tr>\n",
              "    <tr>\n",
              "      <th>1</th>\n",
              "      <td>0.74045</td>\n",
              "      <td>0.75416</td>\n",
              "      <td>0.70588</td>\n",
              "      <td>0.39259</td>\n",
              "      <td>0.38930</td>\n",
              "      <td>0.03659</td>\n",
              "      <td>1.0</td>\n",
              "      <td>0.52459</td>\n",
              "      <td>1.00000</td>\n",
              "      <td>1.00000</td>\n",
              "      <td>NOITE</td>\n",
              "      <td>mais interagem</td>\n",
              "    </tr>\n",
              "    <tr>\n",
              "      <th>2</th>\n",
              "      <td>0.10828</td>\n",
              "      <td>0.08133</td>\n",
              "      <td>0.35294</td>\n",
              "      <td>0.56889</td>\n",
              "      <td>0.57058</td>\n",
              "      <td>0.00000</td>\n",
              "      <td>1.0</td>\n",
              "      <td>0.31148</td>\n",
              "      <td>0.67185</td>\n",
              "      <td>0.23502</td>\n",
              "      <td>TARDE</td>\n",
              "      <td>mais interagem</td>\n",
              "    </tr>\n",
              "    <tr>\n",
              "      <th>3</th>\n",
              "      <td>0.45701</td>\n",
              "      <td>0.43623</td>\n",
              "      <td>0.23529</td>\n",
              "      <td>0.95407</td>\n",
              "      <td>0.95691</td>\n",
              "      <td>0.00000</td>\n",
              "      <td>0.0</td>\n",
              "      <td>0.13115</td>\n",
              "      <td>0.20725</td>\n",
              "      <td>0.26728</td>\n",
              "      <td>NOITE</td>\n",
              "      <td>mais interagem</td>\n",
              "    </tr>\n",
              "    <tr>\n",
              "      <th>4</th>\n",
              "      <td>0.14650</td>\n",
              "      <td>0.14787</td>\n",
              "      <td>0.82353</td>\n",
              "      <td>0.96593</td>\n",
              "      <td>0.92125</td>\n",
              "      <td>0.39024</td>\n",
              "      <td>0.5</td>\n",
              "      <td>0.01639</td>\n",
              "      <td>0.36269</td>\n",
              "      <td>0.22120</td>\n",
              "      <td>TARDE</td>\n",
              "      <td>mais interagem</td>\n",
              "    </tr>\n",
              "  </tbody>\n",
              "</table>\n",
              "</div>\n",
              "      <button class=\"colab-df-convert\" onclick=\"convertToInteractive('df-e0207a9b-0cfa-4f7b-9ecd-7aee86387ba2')\"\n",
              "              title=\"Convert this dataframe to an interactive table.\"\n",
              "              style=\"display:none;\">\n",
              "        \n",
              "  <svg xmlns=\"http://www.w3.org/2000/svg\" height=\"24px\"viewBox=\"0 0 24 24\"\n",
              "       width=\"24px\">\n",
              "    <path d=\"M0 0h24v24H0V0z\" fill=\"none\"/>\n",
              "    <path d=\"M18.56 5.44l.94 2.06.94-2.06 2.06-.94-2.06-.94-.94-2.06-.94 2.06-2.06.94zm-11 1L8.5 8.5l.94-2.06 2.06-.94-2.06-.94L8.5 2.5l-.94 2.06-2.06.94zm10 10l.94 2.06.94-2.06 2.06-.94-2.06-.94-.94-2.06-.94 2.06-2.06.94z\"/><path d=\"M17.41 7.96l-1.37-1.37c-.4-.4-.92-.59-1.43-.59-.52 0-1.04.2-1.43.59L10.3 9.45l-7.72 7.72c-.78.78-.78 2.05 0 2.83L4 21.41c.39.39.9.59 1.41.59.51 0 1.02-.2 1.41-.59l7.78-7.78 2.81-2.81c.8-.78.8-2.07 0-2.86zM5.41 20L4 18.59l7.72-7.72 1.47 1.35L5.41 20z\"/>\n",
              "  </svg>\n",
              "      </button>\n",
              "      \n",
              "  <style>\n",
              "    .colab-df-container {\n",
              "      display:flex;\n",
              "      flex-wrap:wrap;\n",
              "      gap: 12px;\n",
              "    }\n",
              "\n",
              "    .colab-df-convert {\n",
              "      background-color: #E8F0FE;\n",
              "      border: none;\n",
              "      border-radius: 50%;\n",
              "      cursor: pointer;\n",
              "      display: none;\n",
              "      fill: #1967D2;\n",
              "      height: 32px;\n",
              "      padding: 0 0 0 0;\n",
              "      width: 32px;\n",
              "    }\n",
              "\n",
              "    .colab-df-convert:hover {\n",
              "      background-color: #E2EBFA;\n",
              "      box-shadow: 0px 1px 2px rgba(60, 64, 67, 0.3), 0px 1px 3px 1px rgba(60, 64, 67, 0.15);\n",
              "      fill: #174EA6;\n",
              "    }\n",
              "\n",
              "    [theme=dark] .colab-df-convert {\n",
              "      background-color: #3B4455;\n",
              "      fill: #D2E3FC;\n",
              "    }\n",
              "\n",
              "    [theme=dark] .colab-df-convert:hover {\n",
              "      background-color: #434B5C;\n",
              "      box-shadow: 0px 1px 3px 1px rgba(0, 0, 0, 0.15);\n",
              "      filter: drop-shadow(0px 1px 2px rgba(0, 0, 0, 0.3));\n",
              "      fill: #FFFFFF;\n",
              "    }\n",
              "  </style>\n",
              "\n",
              "      <script>\n",
              "        const buttonEl =\n",
              "          document.querySelector('#df-e0207a9b-0cfa-4f7b-9ecd-7aee86387ba2 button.colab-df-convert');\n",
              "        buttonEl.style.display =\n",
              "          google.colab.kernel.accessAllowed ? 'block' : 'none';\n",
              "\n",
              "        async function convertToInteractive(key) {\n",
              "          const element = document.querySelector('#df-e0207a9b-0cfa-4f7b-9ecd-7aee86387ba2');\n",
              "          const dataTable =\n",
              "            await google.colab.kernel.invokeFunction('convertToInteractive',\n",
              "                                                     [key], {});\n",
              "          if (!dataTable) return;\n",
              "\n",
              "          const docLinkHtml = 'Like what you see? Visit the ' +\n",
              "            '<a target=\"_blank\" href=https://colab.research.google.com/notebooks/data_table.ipynb>data table notebook</a>'\n",
              "            + ' to learn more about interactive tables.';\n",
              "          element.innerHTML = '';\n",
              "          dataTable['output_type'] = 'display_data';\n",
              "          await google.colab.output.renderOutput(dataTable, element);\n",
              "          const docLink = document.createElement('div');\n",
              "          docLink.innerHTML = docLinkHtml;\n",
              "          element.appendChild(docLink);\n",
              "        }\n",
              "      </script>\n",
              "    </div>\n",
              "  </div>\n",
              "  "
            ]
          },
          "metadata": {},
          "execution_count": 6
        }
      ],
      "source": [
        "df = pd.DataFrame(db)\n",
        "df.head()\n",
        "\n",
        "data = df.drop(['id-aluno', 'id-turma', 'serie', 'ensino', 'login-count', 'ano-cadastro-usuario', 'dias-ultimo-login', 'cluster'], axis=1, inplace=False)\n",
        "data.head()"
      ]
    },
    {
      "cell_type": "code",
      "source": [
        "# separando os atributos em categóricos e contínuos\n",
        "continuous = data.describe().columns\n",
        "categorical = data.drop(list(continuous), axis=1).columns\n",
        "print(continuous)\n",
        "print(categorical)"
      ],
      "metadata": {
        "colab": {
          "base_uri": "https://localhost:8080/"
        },
        "id": "scCb6RFxnA14",
        "outputId": "0dec28ab-b3f2-476c-905b-e11e14a90040"
      },
      "execution_count": null,
      "outputs": [
        {
          "output_type": "stream",
          "name": "stdout",
          "text": [
            "Index(['var01', 'var02', 'var03', 'var04', 'var05', 'var06', 'var07', 'var08',\n",
            "       'var09', 'var10'],\n",
            "      dtype='object')\n",
            "Index(['var11', 'padrao'], dtype='object')\n"
          ]
        }
      ]
    },
    {
      "cell_type": "code",
      "source": [
        "'''\n",
        "Adotou-se uma abordagem de regressão linear para verificar e completar dados faltantes.\n",
        "Em que, variáveis ausentes serão preenchidas por valores previstos a partir do modelo (a partir dos valores mais fortemente correlacionados)\n",
        "'''\n",
        "import matplotlib.pyplot as plt\n",
        "%matplotlib inline\n",
        "\n",
        "continuous_columns_missing_values = []\n",
        "for column in continuous:\n",
        "  if data[column].isnull().sum() > 0:\n",
        "    continuous_columns_missing_values.append(column)\n",
        "print(continuous_columns_missing_values)\n",
        "\n",
        "most_correlated_columns = {}\n",
        "candidates = [\n",
        "  x for x in continuous if x not in continuous_columns_missing_values\n",
        "]\n",
        "for column in continuous_columns_missing_values:\n",
        "  most_correlated_columns[column] = max(\n",
        "      candidates, key=lambda x: abs(data[x].corr(data[column]))\n",
        "  )"
      ],
      "metadata": {
        "colab": {
          "base_uri": "https://localhost:8080/"
        },
        "id": "Eannj1qFnGMd",
        "outputId": "0adc037f-4c45-4d86-8c40-48e1384b7255"
      },
      "execution_count": null,
      "outputs": [
        {
          "output_type": "stream",
          "name": "stdout",
          "text": [
            "[]\n"
          ]
        }
      ]
    },
    {
      "cell_type": "code",
      "source": [
        "'''\n",
        "Dados categóricos - para adequar os dados a algoritmos de Machine Learning se fez necessário converter variáveis qualitativas em quantitativas para permitir operações numéricas.\n",
        "Sendo assim, as variáveis categóricas da base de dados foram convertidas em inteiros através do LabelEncoder da biblioteca sklear.\n",
        "'''\n",
        "categorical_columns_missing_values = [\n",
        "  p[0] for p in dict(data[categorical].isna().sum() > 0).items() if p[1]\n",
        "]\n",
        "complete_data = data.dropna()\n",
        "print(categorical_columns_missing_values)"
      ],
      "metadata": {
        "colab": {
          "base_uri": "https://localhost:8080/"
        },
        "id": "9f7H9x8RnLy1",
        "outputId": "1a2cbe48-40d7-47dd-a6a3-6e55ed7412f8"
      },
      "execution_count": null,
      "outputs": [
        {
          "output_type": "stream",
          "name": "stdout",
          "text": [
            "['var11']\n"
          ]
        }
      ]
    },
    {
      "cell_type": "code",
      "source": [
        "# Convertendo dados categóricos para números inteiros usando o LabelEncoder da biblioteca Sklearn\n",
        "from sklearn.preprocessing import LabelEncoder\n",
        "from collections import defaultdict\n",
        "\n",
        "label_dict = defaultdict(LabelEncoder)\n",
        "complete_data = complete_data.apply(\n",
        "    lambda x: label_dict[x.name].fit_transform(x)\n",
        "    if x.name in list(categorical)\n",
        "    else x\n",
        ")"
      ],
      "metadata": {
        "id": "Gwx5uwCqnQrF"
      },
      "execution_count": null,
      "outputs": []
    },
    {
      "cell_type": "code",
      "source": [
        "#reconstruindo sem os dados categoricos\n",
        "labels = data['padrao']\n",
        "data.drop('padrao', axis=1, inplace=True)\n",
        "X = data.apply(\n",
        "    lambda x: label_dict[x.name].fit_transform(x)\n",
        "    if x.name in categorical\n",
        "    else x\n",
        ")\n",
        "print(X)"
      ],
      "metadata": {
        "colab": {
          "base_uri": "https://localhost:8080/"
        },
        "id": "jiLD6OSpnVIF",
        "outputId": "5c93ce2b-916c-47b3-c3b9-7b6d27f697e8"
      },
      "execution_count": null,
      "outputs": [
        {
          "output_type": "stream",
          "name": "stdout",
          "text": [
            "       var01    var02    var03    var04    var05    var06    var07    var08  \\\n",
            "0    0.10350  0.08503  0.00000  1.00000  1.00000  0.02439  0.00000  0.00000   \n",
            "1    0.74045  0.75416  0.70588  0.39259  0.38930  0.03659  1.00000  0.52459   \n",
            "2    0.10828  0.08133  0.35294  0.56889  0.57058  0.00000  1.00000  0.31148   \n",
            "3    0.45701  0.43623  0.23529  0.95407  0.95691  0.00000  0.00000  0.13115   \n",
            "4    0.14650  0.14787  0.82353  0.96593  0.92125  0.39024  0.50000  0.01639   \n",
            "..       ...      ...      ...      ...      ...      ...      ...      ...   \n",
            "958  0.02521  0.02500  0.00000  0.00000  0.00000  0.00000  0.33333  0.00000   \n",
            "959  0.00000  0.00000  0.00000  0.00000  0.00000  0.00000  0.00000  0.00000   \n",
            "960  0.05042  0.02500  0.00000  0.00000  0.00000  0.00000  0.00000  0.00000   \n",
            "961  0.02521  0.00000  0.00000  0.00000  0.00000  0.00000  0.66667  0.00000   \n",
            "962  0.00000  0.00000  0.00000  0.00000  0.00000  0.00000  0.33333  0.00000   \n",
            "\n",
            "       var09    var10  var11  \n",
            "0    0.21416  0.16129      3  \n",
            "1    1.00000  1.00000      2  \n",
            "2    0.67185  0.23502      3  \n",
            "3    0.20725  0.26728      2  \n",
            "4    0.36269  0.22120      3  \n",
            "..       ...      ...    ...  \n",
            "958  0.08511  0.07965      0  \n",
            "959  0.00532  0.00000      0  \n",
            "960  0.02660  0.01770      0  \n",
            "961  0.02128  0.02655      0  \n",
            "962  0.00000  0.00000      4  \n",
            "\n",
            "[963 rows x 11 columns]\n"
          ]
        }
      ]
    },
    {
      "cell_type": "code",
      "source": [
        "# Codificando os rótulos\n",
        "Y = label_dict['padrao'].fit_transform(labels)\n",
        "target_names=['M. I.', 'I. E.', 'I. R.']\n",
        "print(Y)"
      ],
      "metadata": {
        "colab": {
          "base_uri": "https://localhost:8080/"
        },
        "id": "SpKvThvOntZt",
        "outputId": "d4d878bd-c70a-443e-e22a-10a4ddb74de2"
      },
      "execution_count": null,
      "outputs": [
        {
          "output_type": "stream",
          "name": "stdout",
          "text": [
            "[2 2 2 2 2 2 2 2 2 2 2 2 2 2 2 2 2 2 2 2 2 2 2 2 2 2 2 2 2 2 2 2 2 2 2 2 2\n",
            " 2 2 2 2 2 2 2 2 2 2 2 2 2 2 2 2 2 2 2 2 2 2 2 2 2 2 2 2 2 2 2 2 2 2 2 2 0\n",
            " 0 0 0 0 0 0 0 0 0 0 0 0 0 0 0 0 0 0 0 0 0 0 0 0 0 0 0 0 0 0 0 0 0 0 0 0 0\n",
            " 0 0 0 0 0 0 0 0 0 0 0 0 0 0 0 0 0 0 0 0 0 0 0 0 0 0 0 0 0 0 0 0 0 0 0 0 0\n",
            " 0 0 0 0 0 0 0 0 0 0 0 0 0 0 0 0 0 0 0 0 0 0 0 0 0 0 0 0 0 0 0 0 0 0 0 0 0\n",
            " 0 0 0 0 0 0 0 0 0 0 0 0 0 0 0 0 0 0 0 0 0 0 0 0 0 0 0 0 0 0 0 0 0 0 0 0 0\n",
            " 0 0 0 0 0 0 0 0 0 0 0 0 0 0 0 0 0 0 0 0 0 0 0 0 0 0 0 0 0 0 0 0 0 0 0 0 0\n",
            " 0 0 0 0 0 0 0 0 0 0 0 0 0 0 0 0 0 0 0 0 0 0 0 0 0 0 0 0 0 0 0 0 0 0 0 0 0\n",
            " 0 0 0 0 0 0 0 0 0 0 0 0 0 0 0 0 0 0 0 0 0 0 0 0 0 0 0 0 0 0 0 0 0 0 0 0 0\n",
            " 0 0 0 0 0 0 0 0 0 0 0 0 0 0 0 0 0 0 0 0 0 0 0 0 0 0 0 0 0 0 0 0 0 0 0 0 0\n",
            " 0 0 0 0 0 0 0 0 0 0 0 0 0 0 0 0 0 0 0 0 0 0 0 0 0 0 0 0 0 0 0 0 0 0 0 0 0\n",
            " 0 0 0 0 0 0 0 0 0 0 0 0 0 0 0 0 0 0 0 0 0 0 0 0 0 0 0 0 0 0 0 0 0 0 0 0 0\n",
            " 0 0 0 0 0 0 0 0 0 0 0 0 0 0 0 0 0 0 0 0 0 0 0 0 0 0 0 1 1 1 1 1 1 1 1 1 1\n",
            " 1 1 1 1 1 1 1 1 1 1 1 1 1 1 1 1 1 1 1 1 1 1 1 1 1 1 1 1 1 1 1 1 1 1 1 1 1\n",
            " 1 1 1 1 1 1 1 1 1 1 1 1 1 1 1 1 1 1 1 1 1 1 1 1 1 1 1 1 1 1 1 1 1 1 1 1 1\n",
            " 1 1 1 1 1 1 1 1 1 1 1 1 1 1 1 1 1 1 1 1 1 1 1 1 1 1 1 1 1 1 1 1 1 1 1 1 1\n",
            " 1 1 1 1 1 1 1 1 1 1 1 1 1 1 1 1 1 1 1 1 1 1 1 1 1 1 1 1 1 1 1 1 1 1 1 1 1\n",
            " 1 1 1 1 1 1 1 1 1 1 1 1 1 1 1 1 1 1 1 1 1 1 1 1 1 1 1 1 1 1 1 1 1 1 1 1 1\n",
            " 1 1 1 1 1 1 1 1 1 1 1 1 1 1 1 1 1 1 1 1 1 1 1 1 1 1 1 1 1 1 1 1 1 1 1 1 1\n",
            " 1 1 1 1 1 1 1 1 1 1 1 1 1 1 1 1 1 1 1 1 1 1 1 1 1 1 1 1 1 1 1 1 1 1 1 1 1\n",
            " 1 1 1 1 1 1 1 1 1 1 1 1 1 1 1 1 1 1 1 1 1 1 1 1 1 1 1 1 1 1 1 1 1 1 1 1 1\n",
            " 1 1 1 1 1 1 1 1 1 1 1 1 1 1 1 1 1 1 1 1 1 1 1 1 1 1 1 1 1 1 1 1 1 1 1 1 1\n",
            " 1 1 1 1 1 1 1 1 1 1 1 1 1 1 1 1 1 1 1 1 1 1 1 1 1 1 1 1 1 1 1 1 1 1 1 1 1\n",
            " 1 1 1 1 1 1 1 1 1 1 1 1 1 1 1 1 1 1 1 1 1 1 1 1 1 1 1 1 1 1 1 1 1 1 1 1 1\n",
            " 1 1 1 1 1 1 1 1 1 1 1 1 1 1 1 1 1 1 1 1 1 1 1 1 1 1 1 1 1 1 1 1 1 1 1 1 1\n",
            " 1 1 1 1 1 1 1 1 1 1 1 1 1 1 1 1 1 1 1 1 1 1 1 1 1 1 1 1 1 1 1 1 1 1 1 1 1\n",
            " 1]\n"
          ]
        }
      ]
    },
    {
      "cell_type": "code",
      "execution_count": null,
      "metadata": {
        "colab": {
          "base_uri": "https://localhost:8080/"
        },
        "id": "CmtmvLI0NVdC",
        "outputId": "fdb5c185-0053-42a5-ba16-37aae50832d8"
      },
      "outputs": [
        {
          "output_type": "display_data",
          "data": {
            "text/plain": [
              "<Figure size 432x288 with 1 Axes>"
            ],
            "image/png": "[encoded data removed]"
          },
          "metadata": {
            "needs_background": "light"
          }
        }
      ],
      "source": [
        "X.boxplot(vert=False)\n",
        "plt.show()"
      ]
    },
    {
      "cell_type": "code",
      "source": [
        "data.boxplot(vert=False)\n",
        "plt.show()"
      ],
      "metadata": {
        "colab": {
          "base_uri": "https://localhost:8080/"
        },
        "id": "EuQsjBsBVEgC",
        "outputId": "faec17a9-d4ac-4a39-f85f-bea3d729eab3"
      },
      "execution_count": null,
      "outputs": [
        {
          "output_type": "display_data",
          "data": {
            "text/plain": [
              "<Figure size 432x288 with 1 Axes>"
            ],
            "image/png": "[encoded data removed]"
          },
          "metadata": {
            "needs_background": "light"
          }
        }
      ]
    },
    {
      "cell_type": "code",
      "execution_count": null,
      "metadata": {
        "colab": {
          "base_uri": "https://localhost:8080/"
        },
        "id": "uVvmwKl8LtX5",
        "outputId": "7e455cbf-52ac-4462-cdf6-ca0b29b5001e"
      },
      "outputs": [
        {
          "output_type": "execute_result",
          "data": {
            "text/plain": [
              "          var01     var02     var03     var04     var05     var06     var07  \\\n",
              "var01  1.000000  0.954440  0.287068  0.355801  0.290793  0.227760  0.212127   \n",
              "var02  0.954440  1.000000  0.293483  0.295409  0.294451  0.166107  0.161177   \n",
              "var03  0.287068  0.293483  1.000000  0.287465  0.542434  0.111301 -0.015020   \n",
              "var04  0.355801  0.295409  0.287465  1.000000  0.580321  0.539868  0.077465   \n",
              "var05  0.290793  0.294451  0.542434  0.580321  1.000000  0.054659  0.031969   \n",
              "var06  0.227760  0.166107  0.111301  0.539868  0.054659  1.000000  0.050228   \n",
              "var07  0.212127  0.161177 -0.015020  0.077465  0.031969  0.050228  1.000000   \n",
              "var08  0.197192  0.173373  0.129519  0.134370  0.058393  0.172743 -0.005486   \n",
              "var09  0.337565  0.293803  0.269748  0.291930  0.237315  0.255017  0.149294   \n",
              "var10  0.349165  0.307480  0.247528  0.287440  0.199733  0.203035  0.071632   \n",
              "\n",
              "          var08     var09     var10  \n",
              "var01  0.197192  0.337565  0.349165  \n",
              "var02  0.173373  0.293803  0.307480  \n",
              "var03  0.129519  0.269748  0.247528  \n",
              "var04  0.134370  0.291930  0.287440  \n",
              "var05  0.058393  0.237315  0.199733  \n",
              "var06  0.172743  0.255017  0.203035  \n",
              "var07 -0.005486  0.149294  0.071632  \n",
              "var08  1.000000  0.425633  0.607279  \n",
              "var09  0.425633  1.000000  0.821103  \n",
              "var10  0.607279  0.821103  1.000000  "
            ],
            "text/html": [
              "\n",
              "  <div id=\"df-b9144669-9275-4c08-aaf0-904e85e874a1\">\n",
              "    <div class=\"colab-df-container\">\n",
              "      <div>\n",
              "<style scoped>\n",
              "    .dataframe tbody tr th:only-of-type {\n",
              "        vertical-align: middle;\n",
              "    }\n",
              "\n",
              "    .dataframe tbody tr th {\n",
              "        vertical-align: top;\n",
              "    }\n",
              "\n",
              "    .dataframe thead th {\n",
              "        text-align: right;\n",
              "    }\n",
              "</style>\n",
              "<table border=\"1\" class=\"dataframe\">\n",
              "  <thead>\n",
              "    <tr style=\"text-align: right;\">\n",
              "      <th></th>\n",
              "      <th>var01</th>\n",
              "      <th>var02</th>\n",
              "      <th>var03</th>\n",
              "      <th>var04</th>\n",
              "      <th>var05</th>\n",
              "      <th>var06</th>\n",
              "      <th>var07</th>\n",
              "      <th>var08</th>\n",
              "      <th>var09</th>\n",
              "      <th>var10</th>\n",
              "    </tr>\n",
              "  </thead>\n",
              "  <tbody>\n",
              "    <tr>\n",
              "      <th>var01</th>\n",
              "      <td>1.000000</td>\n",
              "      <td>0.954440</td>\n",
              "      <td>0.287068</td>\n",
              "      <td>0.355801</td>\n",
              "      <td>0.290793</td>\n",
              "      <td>0.227760</td>\n",
              "      <td>0.212127</td>\n",
              "      <td>0.197192</td>\n",
              "      <td>0.337565</td>\n",
              "      <td>0.349165</td>\n",
              "    </tr>\n",
              "    <tr>\n",
              "      <th>var02</th>\n",
              "      <td>0.954440</td>\n",
              "      <td>1.000000</td>\n",
              "      <td>0.293483</td>\n",
              "      <td>0.295409</td>\n",
              "      <td>0.294451</td>\n",
              "      <td>0.166107</td>\n",
              "      <td>0.161177</td>\n",
              "      <td>0.173373</td>\n",
              "      <td>0.293803</td>\n",
              "      <td>0.307480</td>\n",
              "    </tr>\n",
              "    <tr>\n",
              "      <th>var03</th>\n",
              "      <td>0.287068</td>\n",
              "      <td>0.293483</td>\n",
              "      <td>1.000000</td>\n",
              "      <td>0.287465</td>\n",
              "      <td>0.542434</td>\n",
              "      <td>0.111301</td>\n",
              "      <td>-0.015020</td>\n",
              "      <td>0.129519</td>\n",
              "      <td>0.269748</td>\n",
              "      <td>0.247528</td>\n",
              "    </tr>\n",
              "    <tr>\n",
              "      <th>var04</th>\n",
              "      <td>0.355801</td>\n",
              "      <td>0.295409</td>\n",
              "      <td>0.287465</td>\n",
              "      <td>1.000000</td>\n",
              "      <td>0.580321</td>\n",
              "      <td>0.539868</td>\n",
              "      <td>0.077465</td>\n",
              "      <td>0.134370</td>\n",
              "      <td>0.291930</td>\n",
              "      <td>0.287440</td>\n",
              "    </tr>\n",
              "    <tr>\n",
              "      <th>var05</th>\n",
              "      <td>0.290793</td>\n",
              "      <td>0.294451</td>\n",
              "      <td>0.542434</td>\n",
              "      <td>0.580321</td>\n",
              "      <td>1.000000</td>\n",
              "      <td>0.054659</td>\n",
              "      <td>0.031969</td>\n",
              "      <td>0.058393</td>\n",
              "      <td>0.237315</td>\n",
              "      <td>0.199733</td>\n",
              "    </tr>\n",
              "    <tr>\n",
              "      <th>var06</th>\n",
              "      <td>0.227760</td>\n",
              "      <td>0.166107</td>\n",
              "      <td>0.111301</td>\n",
              "      <td>0.539868</td>\n",
              "      <td>0.054659</td>\n",
              "      <td>1.000000</td>\n",
              "      <td>0.050228</td>\n",
              "      <td>0.172743</td>\n",
              "      <td>0.255017</td>\n",
              "      <td>0.203035</td>\n",
              "    </tr>\n",
              "    <tr>\n",
              "      <th>var07</th>\n",
              "      <td>0.212127</td>\n",
              "      <td>0.161177</td>\n",
              "      <td>-0.015020</td>\n",
              "      <td>0.077465</td>\n",
              "      <td>0.031969</td>\n",
              "      <td>0.050228</td>\n",
              "      <td>1.000000</td>\n",
              "      <td>-0.005486</td>\n",
              "      <td>0.149294</td>\n",
              "      <td>0.071632</td>\n",
              "    </tr>\n",
              "    <tr>\n",
              "      <th>var08</th>\n",
              "      <td>0.197192</td>\n",
              "      <td>0.173373</td>\n",
              "      <td>0.129519</td>\n",
              "      <td>0.134370</td>\n",
              "      <td>0.058393</td>\n",
              "      <td>0.172743</td>\n",
              "      <td>-0.005486</td>\n",
              "      <td>1.000000</td>\n",
              "      <td>0.425633</td>\n",
              "      <td>0.607279</td>\n",
              "    </tr>\n",
              "    <tr>\n",
              "      <th>var09</th>\n",
              "      <td>0.337565</td>\n",
              "      <td>0.293803</td>\n",
              "      <td>0.269748</td>\n",
              "      <td>0.291930</td>\n",
              "      <td>0.237315</td>\n",
              "      <td>0.255017</td>\n",
              "      <td>0.149294</td>\n",
              "      <td>0.425633</td>\n",
              "      <td>1.000000</td>\n",
              "      <td>0.821103</td>\n",
              "    </tr>\n",
              "    <tr>\n",
              "      <th>var10</th>\n",
              "      <td>0.349165</td>\n",
              "      <td>0.307480</td>\n",
              "      <td>0.247528</td>\n",
              "      <td>0.287440</td>\n",
              "      <td>0.199733</td>\n",
              "      <td>0.203035</td>\n",
              "      <td>0.071632</td>\n",
              "      <td>0.607279</td>\n",
              "      <td>0.821103</td>\n",
              "      <td>1.000000</td>\n",
              "    </tr>\n",
              "  </tbody>\n",
              "</table>\n",
              "</div>\n",
              "      <button class=\"colab-df-convert\" onclick=\"convertToInteractive('df-b9144669-9275-4c08-aaf0-904e85e874a1')\"\n",
              "              title=\"Convert this dataframe to an interactive table.\"\n",
              "              style=\"display:none;\">\n",
              "        \n",
              "  <svg xmlns=\"http://www.w3.org/2000/svg\" height=\"24px\"viewBox=\"0 0 24 24\"\n",
              "       width=\"24px\">\n",
              "    <path d=\"M0 0h24v24H0V0z\" fill=\"none\"/>\n",
              "    <path d=\"M18.56 5.44l.94 2.06.94-2.06 2.06-.94-2.06-.94-.94-2.06-.94 2.06-2.06.94zm-11 1L8.5 8.5l.94-2.06 2.06-.94-2.06-.94L8.5 2.5l-.94 2.06-2.06.94zm10 10l.94 2.06.94-2.06 2.06-.94-2.06-.94-.94-2.06-.94 2.06-2.06.94z\"/><path d=\"M17.41 7.96l-1.37-1.37c-.4-.4-.92-.59-1.43-.59-.52 0-1.04.2-1.43.59L10.3 9.45l-7.72 7.72c-.78.78-.78 2.05 0 2.83L4 21.41c.39.39.9.59 1.41.59.51 0 1.02-.2 1.41-.59l7.78-7.78 2.81-2.81c.8-.78.8-2.07 0-2.86zM5.41 20L4 18.59l7.72-7.72 1.47 1.35L5.41 20z\"/>\n",
              "  </svg>\n",
              "      </button>\n",
              "      \n",
              "  <style>\n",
              "    .colab-df-container {\n",
              "      display:flex;\n",
              "      flex-wrap:wrap;\n",
              "      gap: 12px;\n",
              "    }\n",
              "\n",
              "    .colab-df-convert {\n",
              "      background-color: #E8F0FE;\n",
              "      border: none;\n",
              "      border-radius: 50%;\n",
              "      cursor: pointer;\n",
              "      display: none;\n",
              "      fill: #1967D2;\n",
              "      height: 32px;\n",
              "      padding: 0 0 0 0;\n",
              "      width: 32px;\n",
              "    }\n",
              "\n",
              "    .colab-df-convert:hover {\n",
              "      background-color: #E2EBFA;\n",
              "      box-shadow: 0px 1px 2px rgba(60, 64, 67, 0.3), 0px 1px 3px 1px rgba(60, 64, 67, 0.15);\n",
              "      fill: #174EA6;\n",
              "    }\n",
              "\n",
              "    [theme=dark] .colab-df-convert {\n",
              "      background-color: #3B4455;\n",
              "      fill: #D2E3FC;\n",
              "    }\n",
              "\n",
              "    [theme=dark] .colab-df-convert:hover {\n",
              "      background-color: #434B5C;\n",
              "      box-shadow: 0px 1px 3px 1px rgba(0, 0, 0, 0.15);\n",
              "      filter: drop-shadow(0px 1px 2px rgba(0, 0, 0, 0.3));\n",
              "      fill: #FFFFFF;\n",
              "    }\n",
              "  </style>\n",
              "\n",
              "      <script>\n",
              "        const buttonEl =\n",
              "          document.querySelector('#df-b9144669-9275-4c08-aaf0-904e85e874a1 button.colab-df-convert');\n",
              "        buttonEl.style.display =\n",
              "          google.colab.kernel.accessAllowed ? 'block' : 'none';\n",
              "\n",
              "        async function convertToInteractive(key) {\n",
              "          const element = document.querySelector('#df-b9144669-9275-4c08-aaf0-904e85e874a1');\n",
              "          const dataTable =\n",
              "            await google.colab.kernel.invokeFunction('convertToInteractive',\n",
              "                                                     [key], {});\n",
              "          if (!dataTable) return;\n",
              "\n",
              "          const docLinkHtml = 'Like what you see? Visit the ' +\n",
              "            '<a target=\"_blank\" href=https://colab.research.google.com/notebooks/data_table.ipynb>data table notebook</a>'\n",
              "            + ' to learn more about interactive tables.';\n",
              "          element.innerHTML = '';\n",
              "          dataTable['output_type'] = 'display_data';\n",
              "          await google.colab.output.renderOutput(dataTable, element);\n",
              "          const docLink = document.createElement('div');\n",
              "          docLink.innerHTML = docLinkHtml;\n",
              "          element.appendChild(docLink);\n",
              "        }\n",
              "      </script>\n",
              "    </div>\n",
              "  </div>\n",
              "  "
            ]
          },
          "metadata": {},
          "execution_count": 15
        }
      ],
      "source": [
        "data.corr()"
      ]
    },
    {
      "cell_type": "code",
      "source": [
        "correlacao = X.corr() #var01 a var11\n",
        "plot = sn.heatmap(correlacao, annot = True, fmt=\".2f\", linewidths=.6, mask= np.triu(correlacao))"
      ],
      "metadata": {
        "colab": {
          "base_uri": "https://localhost:8080/"
        },
        "id": "Znj8zGO9VJTI",
        "outputId": "4210b6fc-6fc1-439d-bf9a-ddf992590431"
      },
      "execution_count": null,
      "outputs": [
        {
          "output_type": "display_data",
          "data": {
            "text/plain": [
              "<Figure size 432x288 with 2 Axes>"
            ],
            "image/png": "[encoded data removed]"
          },
          "metadata": {
            "needs_background": "light"
          }
        }
      ]
    },
    {
      "cell_type": "code",
      "source": [
        "X.describe()"
      ],
      "metadata": {
        "colab": {
          "base_uri": "https://localhost:8080/"
        },
        "id": "Zdz91niSmRuJ",
        "outputId": "f208513f-fefd-4d5d-cd3f-65cd289a7a3d"
      },
      "execution_count": null,
      "outputs": [
        {
          "output_type": "execute_result",
          "data": {
            "text/plain": [
              "            var01       var02       var03       var04       var05       var06  \\\n",
              "count  963.000000  963.000000  963.000000  963.000000  963.000000  963.000000   \n",
              "mean     0.064799    0.054776    0.042148    0.024209    0.020997    0.034039   \n",
              "std      0.090643    0.089190    0.130107    0.090170    0.095692    0.099645   \n",
              "min      0.000000    0.000000    0.000000    0.000000    0.000000    0.000000   \n",
              "25%      0.016810    0.012500    0.000000    0.000000    0.000000    0.000000   \n",
              "50%      0.038220    0.029570    0.000000    0.000000    0.000000    0.000000   \n",
              "75%      0.075630    0.062500    0.000000    0.013330    0.000000    0.024390   \n",
              "max      1.000000    1.000000    1.000000    1.000000    1.000000    1.000000   \n",
              "\n",
              "            var07       var08       var09       var10       var11  \n",
              "count  963.000000  963.000000  963.000000  963.000000  963.000000  \n",
              "mean     0.393574    0.038798    0.093495    0.076033    2.580478  \n",
              "std      0.389152    0.103162    0.123674    0.111445    0.843535  \n",
              "min      0.000000    0.000000    0.000000    0.000000    0.000000  \n",
              "25%      0.000000    0.000000    0.024180    0.013820    2.000000  \n",
              "50%      0.333330    0.000000    0.055270    0.036870    3.000000  \n",
              "75%      0.750000    0.027030    0.111980    0.088500    3.000000  \n",
              "max      1.000000    1.000000    1.000000    1.000000    4.000000  "
            ],
            "text/html": [
              "\n",
              "  <div id=\"df-3a9bf7a4-627f-4c38-a344-097904ae5861\">\n",
              "    <div class=\"colab-df-container\">\n",
              "      <div>\n",
              "<style scoped>\n",
              "    .dataframe tbody tr th:only-of-type {\n",
              "        vertical-align: middle;\n",
              "    }\n",
              "\n",
              "    .dataframe tbody tr th {\n",
              "        vertical-align: top;\n",
              "    }\n",
              "\n",
              "    .dataframe thead th {\n",
              "        text-align: right;\n",
              "    }\n",
              "</style>\n",
              "<table border=\"1\" class=\"dataframe\">\n",
              "  <thead>\n",
              "    <tr style=\"text-align: right;\">\n",
              "      <th></th>\n",
              "      <th>var01</th>\n",
              "      <th>var02</th>\n",
              "      <th>var03</th>\n",
              "      <th>var04</th>\n",
              "      <th>var05</th>\n",
              "      <th>var06</th>\n",
              "      <th>var07</th>\n",
              "      <th>var08</th>\n",
              "      <th>var09</th>\n",
              "      <th>var10</th>\n",
              "      <th>var11</th>\n",
              "    </tr>\n",
              "  </thead>\n",
              "  <tbody>\n",
              "    <tr>\n",
              "      <th>count</th>\n",
              "      <td>963.000000</td>\n",
              "      <td>963.000000</td>\n",
              "      <td>963.000000</td>\n",
              "      <td>963.000000</td>\n",
              "      <td>963.000000</td>\n",
              "      <td>963.000000</td>\n",
              "      <td>963.000000</td>\n",
              "      <td>963.000000</td>\n",
              "      <td>963.000000</td>\n",
              "      <td>963.000000</td>\n",
              "      <td>963.000000</td>\n",
              "    </tr>\n",
              "    <tr>\n",
              "      <th>mean</th>\n",
              "      <td>0.064799</td>\n",
              "      <td>0.054776</td>\n",
              "      <td>0.042148</td>\n",
              "      <td>0.024209</td>\n",
              "      <td>0.020997</td>\n",
              "      <td>0.034039</td>\n",
              "      <td>0.393574</td>\n",
              "      <td>0.038798</td>\n",
              "      <td>0.093495</td>\n",
              "      <td>0.076033</td>\n",
              "      <td>2.580478</td>\n",
              "    </tr>\n",
              "    <tr>\n",
              "      <th>std</th>\n",
              "      <td>0.090643</td>\n",
              "      <td>0.089190</td>\n",
              "      <td>0.130107</td>\n",
              "      <td>0.090170</td>\n",
              "      <td>0.095692</td>\n",
              "      <td>0.099645</td>\n",
              "      <td>0.389152</td>\n",
              "      <td>0.103162</td>\n",
              "      <td>0.123674</td>\n",
              "      <td>0.111445</td>\n",
              "      <td>0.843535</td>\n",
              "    </tr>\n",
              "    <tr>\n",
              "      <th>min</th>\n",
              "      <td>0.000000</td>\n",
              "      <td>0.000000</td>\n",
              "      <td>0.000000</td>\n",
              "      <td>0.000000</td>\n",
              "      <td>0.000000</td>\n",
              "      <td>0.000000</td>\n",
              "      <td>0.000000</td>\n",
              "      <td>0.000000</td>\n",
              "      <td>0.000000</td>\n",
              "      <td>0.000000</td>\n",
              "      <td>0.000000</td>\n",
              "    </tr>\n",
              "    <tr>\n",
              "      <th>25%</th>\n",
              "      <td>0.016810</td>\n",
              "      <td>0.012500</td>\n",
              "      <td>0.000000</td>\n",
              "      <td>0.000000</td>\n",
              "      <td>0.000000</td>\n",
              "      <td>0.000000</td>\n",
              "      <td>0.000000</td>\n",
              "      <td>0.000000</td>\n",
              "      <td>0.024180</td>\n",
              "      <td>0.013820</td>\n",
              "      <td>2.000000</td>\n",
              "    </tr>\n",
              "    <tr>\n",
              "      <th>50%</th>\n",
              "      <td>0.038220</td>\n",
              "      <td>0.029570</td>\n",
              "      <td>0.000000</td>\n",
              "      <td>0.000000</td>\n",
              "      <td>0.000000</td>\n",
              "      <td>0.000000</td>\n",
              "      <td>0.333330</td>\n",
              "      <td>0.000000</td>\n",
              "      <td>0.055270</td>\n",
              "      <td>0.036870</td>\n",
              "      <td>3.000000</td>\n",
              "    </tr>\n",
              "    <tr>\n",
              "      <th>75%</th>\n",
              "      <td>0.075630</td>\n",
              "      <td>0.062500</td>\n",
              "      <td>0.000000</td>\n",
              "      <td>0.013330</td>\n",
              "      <td>0.000000</td>\n",
              "      <td>0.024390</td>\n",
              "      <td>0.750000</td>\n",
              "      <td>0.027030</td>\n",
              "      <td>0.111980</td>\n",
              "      <td>0.088500</td>\n",
              "      <td>3.000000</td>\n",
              "    </tr>\n",
              "    <tr>\n",
              "      <th>max</th>\n",
              "      <td>1.000000</td>\n",
              "      <td>1.000000</td>\n",
              "      <td>1.000000</td>\n",
              "      <td>1.000000</td>\n",
              "      <td>1.000000</td>\n",
              "      <td>1.000000</td>\n",
              "      <td>1.000000</td>\n",
              "      <td>1.000000</td>\n",
              "      <td>1.000000</td>\n",
              "      <td>1.000000</td>\n",
              "      <td>4.000000</td>\n",
              "    </tr>\n",
              "  </tbody>\n",
              "</table>\n",
              "</div>\n",
              "      <button class=\"colab-df-convert\" onclick=\"convertToInteractive('df-3a9bf7a4-627f-4c38-a344-097904ae5861')\"\n",
              "              title=\"Convert this dataframe to an interactive table.\"\n",
              "              style=\"display:none;\">\n",
              "        \n",
              "  <svg xmlns=\"http://www.w3.org/2000/svg\" height=\"24px\"viewBox=\"0 0 24 24\"\n",
              "       width=\"24px\">\n",
              "    <path d=\"M0 0h24v24H0V0z\" fill=\"none\"/>\n",
              "    <path d=\"M18.56 5.44l.94 2.06.94-2.06 2.06-.94-2.06-.94-.94-2.06-.94 2.06-2.06.94zm-11 1L8.5 8.5l.94-2.06 2.06-.94-2.06-.94L8.5 2.5l-.94 2.06-2.06.94zm10 10l.94 2.06.94-2.06 2.06-.94-2.06-.94-.94-2.06-.94 2.06-2.06.94z\"/><path d=\"M17.41 7.96l-1.37-1.37c-.4-.4-.92-.59-1.43-.59-.52 0-1.04.2-1.43.59L10.3 9.45l-7.72 7.72c-.78.78-.78 2.05 0 2.83L4 21.41c.39.39.9.59 1.41.59.51 0 1.02-.2 1.41-.59l7.78-7.78 2.81-2.81c.8-.78.8-2.07 0-2.86zM5.41 20L4 18.59l7.72-7.72 1.47 1.35L5.41 20z\"/>\n",
              "  </svg>\n",
              "      </button>\n",
              "      \n",
              "  <style>\n",
              "    .colab-df-container {\n",
              "      display:flex;\n",
              "      flex-wrap:wrap;\n",
              "      gap: 12px;\n",
              "    }\n",
              "\n",
              "    .colab-df-convert {\n",
              "      background-color: #E8F0FE;\n",
              "      border: none;\n",
              "      border-radius: 50%;\n",
              "      cursor: pointer;\n",
              "      display: none;\n",
              "      fill: #1967D2;\n",
              "      height: 32px;\n",
              "      padding: 0 0 0 0;\n",
              "      width: 32px;\n",
              "    }\n",
              "\n",
              "    .colab-df-convert:hover {\n",
              "      background-color: #E2EBFA;\n",
              "      box-shadow: 0px 1px 2px rgba(60, 64, 67, 0.3), 0px 1px 3px 1px rgba(60, 64, 67, 0.15);\n",
              "      fill: #174EA6;\n",
              "    }\n",
              "\n",
              "    [theme=dark] .colab-df-convert {\n",
              "      background-color: #3B4455;\n",
              "      fill: #D2E3FC;\n",
              "    }\n",
              "\n",
              "    [theme=dark] .colab-df-convert:hover {\n",
              "      background-color: #434B5C;\n",
              "      box-shadow: 0px 1px 3px 1px rgba(0, 0, 0, 0.15);\n",
              "      filter: drop-shadow(0px 1px 2px rgba(0, 0, 0, 0.3));\n",
              "      fill: #FFFFFF;\n",
              "    }\n",
              "  </style>\n",
              "\n",
              "      <script>\n",
              "        const buttonEl =\n",
              "          document.querySelector('#df-3a9bf7a4-627f-4c38-a344-097904ae5861 button.colab-df-convert');\n",
              "        buttonEl.style.display =\n",
              "          google.colab.kernel.accessAllowed ? 'block' : 'none';\n",
              "\n",
              "        async function convertToInteractive(key) {\n",
              "          const element = document.querySelector('#df-3a9bf7a4-627f-4c38-a344-097904ae5861');\n",
              "          const dataTable =\n",
              "            await google.colab.kernel.invokeFunction('convertToInteractive',\n",
              "                                                     [key], {});\n",
              "          if (!dataTable) return;\n",
              "\n",
              "          const docLinkHtml = 'Like what you see? Visit the ' +\n",
              "            '<a target=\"_blank\" href=https://colab.research.google.com/notebooks/data_table.ipynb>data table notebook</a>'\n",
              "            + ' to learn more about interactive tables.';\n",
              "          element.innerHTML = '';\n",
              "          dataTable['output_type'] = 'display_data';\n",
              "          await google.colab.output.renderOutput(dataTable, element);\n",
              "          const docLink = document.createElement('div');\n",
              "          docLink.innerHTML = docLinkHtml;\n",
              "          element.appendChild(docLink);\n",
              "        }\n",
              "      </script>\n",
              "    </div>\n",
              "  </div>\n",
              "  "
            ]
          },
          "metadata": {},
          "execution_count": 17
        }
      ]
    },
    {
      "cell_type": "code",
      "source": [
        "correlacao = data.corr() #var01 a var10\n",
        "plot = sn.heatmap(correlacao, annot = True, fmt=\".2f\", linewidths=.6, mask= np.triu(correlacao))"
      ],
      "metadata": {
        "colab": {
          "base_uri": "https://localhost:8080/"
        },
        "id": "bPyln3qhTYrR",
        "outputId": "c6fe4e10-c4ac-422d-962a-c8fabffcc3ed"
      },
      "execution_count": null,
      "outputs": [
        {
          "output_type": "display_data",
          "data": {
            "text/plain": [
              "<Figure size 432x288 with 2 Axes>"
            ],
            "image/png": "[encoded data removed]"
          },
          "metadata": {
            "needs_background": "light"
          }
        }
      ]
    },
    {
      "cell_type": "markdown",
      "metadata": {
        "id": "qfY1kPQzdMIN"
      },
      "source": [
        "# 2 - Pré-processamento dos Dados\n",
        "Pré-processou os dados para verificar a existência de dados faltantes, tipos de dados, realizarem o tratamento e transformar os dados para melhor ajuste aos modelos de aprendizagem de máquina."
      ]
    },
    {
      "cell_type": "code",
      "execution_count": null,
      "metadata": {
        "colab": {
          "base_uri": "https://localhost:8080/"
        },
        "id": "mUjCdvdSPaWA",
        "outputId": "32abfa2f-65ac-48de-8515-5284cc1c033e"
      },
      "outputs": [
        {
          "output_type": "execute_result",
          "data": {
            "text/plain": [
              "var01     0\n",
              "var02     0\n",
              "var03     0\n",
              "var04     0\n",
              "var05     0\n",
              "var06     0\n",
              "var07     0\n",
              "var08     0\n",
              "var09     0\n",
              "var10     0\n",
              "var11    48\n",
              "dtype: int64"
            ]
          },
          "metadata": {},
          "execution_count": 23
        }
      ],
      "source": [
        "data.isna().sum()"
      ]
    },
    {
      "cell_type": "code",
      "execution_count": null,
      "metadata": {
        "colab": {
          "base_uri": "https://localhost:8080/"
        },
        "id": "Xkz0ihNWOmte",
        "outputId": "4f255dd7-dae9-4a46-e027-a2552d269d5a"
      },
      "outputs": [
        {
          "output_type": "execute_result",
          "data": {
            "text/plain": [
              "            var01       var02       var03       var04       var05       var06  \\\n",
              "count  963.000000  963.000000  963.000000  963.000000  963.000000  963.000000   \n",
              "mean     0.064799    0.054776    0.042148    0.024209    0.020997    0.034039   \n",
              "std      0.090643    0.089190    0.130107    0.090170    0.095692    0.099645   \n",
              "min      0.000000    0.000000    0.000000    0.000000    0.000000    0.000000   \n",
              "25%      0.016810    0.012500    0.000000    0.000000    0.000000    0.000000   \n",
              "50%      0.038220    0.029570    0.000000    0.000000    0.000000    0.000000   \n",
              "75%      0.075630    0.062500    0.000000    0.013330    0.000000    0.024390   \n",
              "max      1.000000    1.000000    1.000000    1.000000    1.000000    1.000000   \n",
              "\n",
              "            var07       var08       var09       var10  \n",
              "count  963.000000  963.000000  963.000000  963.000000  \n",
              "mean     0.393574    0.038798    0.093495    0.076033  \n",
              "std      0.389152    0.103162    0.123674    0.111445  \n",
              "min      0.000000    0.000000    0.000000    0.000000  \n",
              "25%      0.000000    0.000000    0.024180    0.013820  \n",
              "50%      0.333330    0.000000    0.055270    0.036870  \n",
              "75%      0.750000    0.027030    0.111980    0.088500  \n",
              "max      1.000000    1.000000    1.000000    1.000000  "
            ],
            "text/html": [
              "\n",
              "  <div id=\"df-e7bc6a28-aab3-41de-8f3d-0b5df582ebc5\">\n",
              "    <div class=\"colab-df-container\">\n",
              "      <div>\n",
              "<style scoped>\n",
              "    .dataframe tbody tr th:only-of-type {\n",
              "        vertical-align: middle;\n",
              "    }\n",
              "\n",
              "    .dataframe tbody tr th {\n",
              "        vertical-align: top;\n",
              "    }\n",
              "\n",
              "    .dataframe thead th {\n",
              "        text-align: right;\n",
              "    }\n",
              "</style>\n",
              "<table border=\"1\" class=\"dataframe\">\n",
              "  <thead>\n",
              "    <tr style=\"text-align: right;\">\n",
              "      <th></th>\n",
              "      <th>var01</th>\n",
              "      <th>var02</th>\n",
              "      <th>var03</th>\n",
              "      <th>var04</th>\n",
              "      <th>var05</th>\n",
              "      <th>var06</th>\n",
              "      <th>var07</th>\n",
              "      <th>var08</th>\n",
              "      <th>var09</th>\n",
              "      <th>var10</th>\n",
              "    </tr>\n",
              "  </thead>\n",
              "  <tbody>\n",
              "    <tr>\n",
              "      <th>count</th>\n",
              "      <td>963.000000</td>\n",
              "      <td>963.000000</td>\n",
              "      <td>963.000000</td>\n",
              "      <td>963.000000</td>\n",
              "      <td>963.000000</td>\n",
              "      <td>963.000000</td>\n",
              "      <td>963.000000</td>\n",
              "      <td>963.000000</td>\n",
              "      <td>963.000000</td>\n",
              "      <td>963.000000</td>\n",
              "    </tr>\n",
              "    <tr>\n",
              "      <th>mean</th>\n",
              "      <td>0.064799</td>\n",
              "      <td>0.054776</td>\n",
              "      <td>0.042148</td>\n",
              "      <td>0.024209</td>\n",
              "      <td>0.020997</td>\n",
              "      <td>0.034039</td>\n",
              "      <td>0.393574</td>\n",
              "      <td>0.038798</td>\n",
              "      <td>0.093495</td>\n",
              "      <td>0.076033</td>\n",
              "    </tr>\n",
              "    <tr>\n",
              "      <th>std</th>\n",
              "      <td>0.090643</td>\n",
              "      <td>0.089190</td>\n",
              "      <td>0.130107</td>\n",
              "      <td>0.090170</td>\n",
              "      <td>0.095692</td>\n",
              "      <td>0.099645</td>\n",
              "      <td>0.389152</td>\n",
              "      <td>0.103162</td>\n",
              "      <td>0.123674</td>\n",
              "      <td>0.111445</td>\n",
              "    </tr>\n",
              "    <tr>\n",
              "      <th>min</th>\n",
              "      <td>0.000000</td>\n",
              "      <td>0.000000</td>\n",
              "      <td>0.000000</td>\n",
              "      <td>0.000000</td>\n",
              "      <td>0.000000</td>\n",
              "      <td>0.000000</td>\n",
              "      <td>0.000000</td>\n",
              "      <td>0.000000</td>\n",
              "      <td>0.000000</td>\n",
              "      <td>0.000000</td>\n",
              "    </tr>\n",
              "    <tr>\n",
              "      <th>25%</th>\n",
              "      <td>0.016810</td>\n",
              "      <td>0.012500</td>\n",
              "      <td>0.000000</td>\n",
              "      <td>0.000000</td>\n",
              "      <td>0.000000</td>\n",
              "      <td>0.000000</td>\n",
              "      <td>0.000000</td>\n",
              "      <td>0.000000</td>\n",
              "      <td>0.024180</td>\n",
              "      <td>0.013820</td>\n",
              "    </tr>\n",
              "    <tr>\n",
              "      <th>50%</th>\n",
              "      <td>0.038220</td>\n",
              "      <td>0.029570</td>\n",
              "      <td>0.000000</td>\n",
              "      <td>0.000000</td>\n",
              "      <td>0.000000</td>\n",
              "      <td>0.000000</td>\n",
              "      <td>0.333330</td>\n",
              "      <td>0.000000</td>\n",
              "      <td>0.055270</td>\n",
              "      <td>0.036870</td>\n",
              "    </tr>\n",
              "    <tr>\n",
              "      <th>75%</th>\n",
              "      <td>0.075630</td>\n",
              "      <td>0.062500</td>\n",
              "      <td>0.000000</td>\n",
              "      <td>0.013330</td>\n",
              "      <td>0.000000</td>\n",
              "      <td>0.024390</td>\n",
              "      <td>0.750000</td>\n",
              "      <td>0.027030</td>\n",
              "      <td>0.111980</td>\n",
              "      <td>0.088500</td>\n",
              "    </tr>\n",
              "    <tr>\n",
              "      <th>max</th>\n",
              "      <td>1.000000</td>\n",
              "      <td>1.000000</td>\n",
              "      <td>1.000000</td>\n",
              "      <td>1.000000</td>\n",
              "      <td>1.000000</td>\n",
              "      <td>1.000000</td>\n",
              "      <td>1.000000</td>\n",
              "      <td>1.000000</td>\n",
              "      <td>1.000000</td>\n",
              "      <td>1.000000</td>\n",
              "    </tr>\n",
              "  </tbody>\n",
              "</table>\n",
              "</div>\n",
              "      <button class=\"colab-df-convert\" onclick=\"convertToInteractive('df-e7bc6a28-aab3-41de-8f3d-0b5df582ebc5')\"\n",
              "              title=\"Convert this dataframe to an interactive table.\"\n",
              "              style=\"display:none;\">\n",
              "        \n",
              "  <svg xmlns=\"http://www.w3.org/2000/svg\" height=\"24px\"viewBox=\"0 0 24 24\"\n",
              "       width=\"24px\">\n",
              "    <path d=\"M0 0h24v24H0V0z\" fill=\"none\"/>\n",
              "    <path d=\"M18.56 5.44l.94 2.06.94-2.06 2.06-.94-2.06-.94-.94-2.06-.94 2.06-2.06.94zm-11 1L8.5 8.5l.94-2.06 2.06-.94-2.06-.94L8.5 2.5l-.94 2.06-2.06.94zm10 10l.94 2.06.94-2.06 2.06-.94-2.06-.94-.94-2.06-.94 2.06-2.06.94z\"/><path d=\"M17.41 7.96l-1.37-1.37c-.4-.4-.92-.59-1.43-.59-.52 0-1.04.2-1.43.59L10.3 9.45l-7.72 7.72c-.78.78-.78 2.05 0 2.83L4 21.41c.39.39.9.59 1.41.59.51 0 1.02-.2 1.41-.59l7.78-7.78 2.81-2.81c.8-.78.8-2.07 0-2.86zM5.41 20L4 18.59l7.72-7.72 1.47 1.35L5.41 20z\"/>\n",
              "  </svg>\n",
              "      </button>\n",
              "      \n",
              "  <style>\n",
              "    .colab-df-container {\n",
              "      display:flex;\n",
              "      flex-wrap:wrap;\n",
              "      gap: 12px;\n",
              "    }\n",
              "\n",
              "    .colab-df-convert {\n",
              "      background-color: #E8F0FE;\n",
              "      border: none;\n",
              "      border-radius: 50%;\n",
              "      cursor: pointer;\n",
              "      display: none;\n",
              "      fill: #1967D2;\n",
              "      height: 32px;\n",
              "      padding: 0 0 0 0;\n",
              "      width: 32px;\n",
              "    }\n",
              "\n",
              "    .colab-df-convert:hover {\n",
              "      background-color: #E2EBFA;\n",
              "      box-shadow: 0px 1px 2px rgba(60, 64, 67, 0.3), 0px 1px 3px 1px rgba(60, 64, 67, 0.15);\n",
              "      fill: #174EA6;\n",
              "    }\n",
              "\n",
              "    [theme=dark] .colab-df-convert {\n",
              "      background-color: #3B4455;\n",
              "      fill: #D2E3FC;\n",
              "    }\n",
              "\n",
              "    [theme=dark] .colab-df-convert:hover {\n",
              "      background-color: #434B5C;\n",
              "      box-shadow: 0px 1px 3px 1px rgba(0, 0, 0, 0.15);\n",
              "      filter: drop-shadow(0px 1px 2px rgba(0, 0, 0, 0.3));\n",
              "      fill: #FFFFFF;\n",
              "    }\n",
              "  </style>\n",
              "\n",
              "      <script>\n",
              "        const buttonEl =\n",
              "          document.querySelector('#df-e7bc6a28-aab3-41de-8f3d-0b5df582ebc5 button.colab-df-convert');\n",
              "        buttonEl.style.display =\n",
              "          google.colab.kernel.accessAllowed ? 'block' : 'none';\n",
              "\n",
              "        async function convertToInteractive(key) {\n",
              "          const element = document.querySelector('#df-e7bc6a28-aab3-41de-8f3d-0b5df582ebc5');\n",
              "          const dataTable =\n",
              "            await google.colab.kernel.invokeFunction('convertToInteractive',\n",
              "                                                     [key], {});\n",
              "          if (!dataTable) return;\n",
              "\n",
              "          const docLinkHtml = 'Like what you see? Visit the ' +\n",
              "            '<a target=\"_blank\" href=https://colab.research.google.com/notebooks/data_table.ipynb>data table notebook</a>'\n",
              "            + ' to learn more about interactive tables.';\n",
              "          element.innerHTML = '';\n",
              "          dataTable['output_type'] = 'display_data';\n",
              "          await google.colab.output.renderOutput(dataTable, element);\n",
              "          const docLink = document.createElement('div');\n",
              "          docLink.innerHTML = docLinkHtml;\n",
              "          element.appendChild(docLink);\n",
              "        }\n",
              "      </script>\n",
              "    </div>\n",
              "  </div>\n",
              "  "
            ]
          },
          "metadata": {},
          "execution_count": 24
        }
      ],
      "source": [
        "data.describe()"
      ]
    },
    {
      "cell_type": "code",
      "execution_count": null,
      "metadata": {
        "colab": {
          "base_uri": "https://localhost:8080/"
        },
        "id": "S44af5Rs4NlT",
        "outputId": "bd96407c-a0f3-43db-83df-828b8ccc6034"
      },
      "outputs": [
        {
          "output_type": "stream",
          "name": "stdout",
          "text": [
            "<class 'pandas.core.frame.DataFrame'>\n",
            "RangeIndex: 963 entries, 0 to 962\n",
            "Data columns (total 11 columns):\n",
            " #   Column  Non-Null Count  Dtype  \n",
            "---  ------  --------------  -----  \n",
            " 0   var01   963 non-null    float64\n",
            " 1   var02   963 non-null    float64\n",
            " 2   var03   963 non-null    float64\n",
            " 3   var04   963 non-null    float64\n",
            " 4   var05   963 non-null    float64\n",
            " 5   var06   963 non-null    float64\n",
            " 6   var07   963 non-null    float64\n",
            " 7   var08   963 non-null    float64\n",
            " 8   var09   963 non-null    float64\n",
            " 9   var10   963 non-null    float64\n",
            " 10  var11   915 non-null    object \n",
            "dtypes: float64(10), object(1)\n",
            "memory usage: 82.9+ KB\n"
          ]
        }
      ],
      "source": [
        "data.info()"
      ]
    },
    {
      "cell_type": "code",
      "source": [
        "data.head()"
      ],
      "metadata": {
        "colab": {
          "base_uri": "https://localhost:8080/"
        },
        "id": "ldNiIMyepCqH",
        "outputId": "c52d560d-0b5e-4f9d-f4ac-e36323f7eb13"
      },
      "execution_count": null,
      "outputs": [
        {
          "output_type": "execute_result",
          "data": {
            "text/plain": [
              "     var01    var02    var03    var04    var05    var06  var07    var08  \\\n",
              "0  0.10350  0.08503  0.00000  1.00000  1.00000  0.02439    0.0  0.00000   \n",
              "1  0.74045  0.75416  0.70588  0.39259  0.38930  0.03659    1.0  0.52459   \n",
              "2  0.10828  0.08133  0.35294  0.56889  0.57058  0.00000    1.0  0.31148   \n",
              "3  0.45701  0.43623  0.23529  0.95407  0.95691  0.00000    0.0  0.13115   \n",
              "4  0.14650  0.14787  0.82353  0.96593  0.92125  0.39024    0.5  0.01639   \n",
              "\n",
              "     var09    var10  var11  \n",
              "0  0.21416  0.16129  TARDE  \n",
              "1  1.00000  1.00000  NOITE  \n",
              "2  0.67185  0.23502  TARDE  \n",
              "3  0.20725  0.26728  NOITE  \n",
              "4  0.36269  0.22120  TARDE  "
            ],
            "text/html": [
              "\n",
              "  <div id=\"df-bf1a6184-e8c8-436e-92be-863a545f1ebc\">\n",
              "    <div class=\"colab-df-container\">\n",
              "      <div>\n",
              "<style scoped>\n",
              "    .dataframe tbody tr th:only-of-type {\n",
              "        vertical-align: middle;\n",
              "    }\n",
              "\n",
              "    .dataframe tbody tr th {\n",
              "        vertical-align: top;\n",
              "    }\n",
              "\n",
              "    .dataframe thead th {\n",
              "        text-align: right;\n",
              "    }\n",
              "</style>\n",
              "<table border=\"1\" class=\"dataframe\">\n",
              "  <thead>\n",
              "    <tr style=\"text-align: right;\">\n",
              "      <th></th>\n",
              "      <th>var01</th>\n",
              "      <th>var02</th>\n",
              "      <th>var03</th>\n",
              "      <th>var04</th>\n",
              "      <th>var05</th>\n",
              "      <th>var06</th>\n",
              "      <th>var07</th>\n",
              "      <th>var08</th>\n",
              "      <th>var09</th>\n",
              "      <th>var10</th>\n",
              "      <th>var11</th>\n",
              "    </tr>\n",
              "  </thead>\n",
              "  <tbody>\n",
              "    <tr>\n",
              "      <th>0</th>\n",
              "      <td>0.10350</td>\n",
              "      <td>0.08503</td>\n",
              "      <td>0.00000</td>\n",
              "      <td>1.00000</td>\n",
              "      <td>1.00000</td>\n",
              "      <td>0.02439</td>\n",
              "      <td>0.0</td>\n",
              "      <td>0.00000</td>\n",
              "      <td>0.21416</td>\n",
              "      <td>0.16129</td>\n",
              "      <td>TARDE</td>\n",
              "    </tr>\n",
              "    <tr>\n",
              "      <th>1</th>\n",
              "      <td>0.74045</td>\n",
              "      <td>0.75416</td>\n",
              "      <td>0.70588</td>\n",
              "      <td>0.39259</td>\n",
              "      <td>0.38930</td>\n",
              "      <td>0.03659</td>\n",
              "      <td>1.0</td>\n",
              "      <td>0.52459</td>\n",
              "      <td>1.00000</td>\n",
              "      <td>1.00000</td>\n",
              "      <td>NOITE</td>\n",
              "    </tr>\n",
              "    <tr>\n",
              "      <th>2</th>\n",
              "      <td>0.10828</td>\n",
              "      <td>0.08133</td>\n",
              "      <td>0.35294</td>\n",
              "      <td>0.56889</td>\n",
              "      <td>0.57058</td>\n",
              "      <td>0.00000</td>\n",
              "      <td>1.0</td>\n",
              "      <td>0.31148</td>\n",
              "      <td>0.67185</td>\n",
              "      <td>0.23502</td>\n",
              "      <td>TARDE</td>\n",
              "    </tr>\n",
              "    <tr>\n",
              "      <th>3</th>\n",
              "      <td>0.45701</td>\n",
              "      <td>0.43623</td>\n",
              "      <td>0.23529</td>\n",
              "      <td>0.95407</td>\n",
              "      <td>0.95691</td>\n",
              "      <td>0.00000</td>\n",
              "      <td>0.0</td>\n",
              "      <td>0.13115</td>\n",
              "      <td>0.20725</td>\n",
              "      <td>0.26728</td>\n",
              "      <td>NOITE</td>\n",
              "    </tr>\n",
              "    <tr>\n",
              "      <th>4</th>\n",
              "      <td>0.14650</td>\n",
              "      <td>0.14787</td>\n",
              "      <td>0.82353</td>\n",
              "      <td>0.96593</td>\n",
              "      <td>0.92125</td>\n",
              "      <td>0.39024</td>\n",
              "      <td>0.5</td>\n",
              "      <td>0.01639</td>\n",
              "      <td>0.36269</td>\n",
              "      <td>0.22120</td>\n",
              "      <td>TARDE</td>\n",
              "    </tr>\n",
              "  </tbody>\n",
              "</table>\n",
              "</div>\n",
              "      <button class=\"colab-df-convert\" onclick=\"convertToInteractive('df-bf1a6184-e8c8-436e-92be-863a545f1ebc')\"\n",
              "              title=\"Convert this dataframe to an interactive table.\"\n",
              "              style=\"display:none;\">\n",
              "        \n",
              "  <svg xmlns=\"http://www.w3.org/2000/svg\" height=\"24px\"viewBox=\"0 0 24 24\"\n",
              "       width=\"24px\">\n",
              "    <path d=\"M0 0h24v24H0V0z\" fill=\"none\"/>\n",
              "    <path d=\"M18.56 5.44l.94 2.06.94-2.06 2.06-.94-2.06-.94-.94-2.06-.94 2.06-2.06.94zm-11 1L8.5 8.5l.94-2.06 2.06-.94-2.06-.94L8.5 2.5l-.94 2.06-2.06.94zm10 10l.94 2.06.94-2.06 2.06-.94-2.06-.94-.94-2.06-.94 2.06-2.06.94z\"/><path d=\"M17.41 7.96l-1.37-1.37c-.4-.4-.92-.59-1.43-.59-.52 0-1.04.2-1.43.59L10.3 9.45l-7.72 7.72c-.78.78-.78 2.05 0 2.83L4 21.41c.39.39.9.59 1.41.59.51 0 1.02-.2 1.41-.59l7.78-7.78 2.81-2.81c.8-.78.8-2.07 0-2.86zM5.41 20L4 18.59l7.72-7.72 1.47 1.35L5.41 20z\"/>\n",
              "  </svg>\n",
              "      </button>\n",
              "      \n",
              "  <style>\n",
              "    .colab-df-container {\n",
              "      display:flex;\n",
              "      flex-wrap:wrap;\n",
              "      gap: 12px;\n",
              "    }\n",
              "\n",
              "    .colab-df-convert {\n",
              "      background-color: #E8F0FE;\n",
              "      border: none;\n",
              "      border-radius: 50%;\n",
              "      cursor: pointer;\n",
              "      display: none;\n",
              "      fill: #1967D2;\n",
              "      height: 32px;\n",
              "      padding: 0 0 0 0;\n",
              "      width: 32px;\n",
              "    }\n",
              "\n",
              "    .colab-df-convert:hover {\n",
              "      background-color: #E2EBFA;\n",
              "      box-shadow: 0px 1px 2px rgba(60, 64, 67, 0.3), 0px 1px 3px 1px rgba(60, 64, 67, 0.15);\n",
              "      fill: #174EA6;\n",
              "    }\n",
              "\n",
              "    [theme=dark] .colab-df-convert {\n",
              "      background-color: #3B4455;\n",
              "      fill: #D2E3FC;\n",
              "    }\n",
              "\n",
              "    [theme=dark] .colab-df-convert:hover {\n",
              "      background-color: #434B5C;\n",
              "      box-shadow: 0px 1px 3px 1px rgba(0, 0, 0, 0.15);\n",
              "      filter: drop-shadow(0px 1px 2px rgba(0, 0, 0, 0.3));\n",
              "      fill: #FFFFFF;\n",
              "    }\n",
              "  </style>\n",
              "\n",
              "      <script>\n",
              "        const buttonEl =\n",
              "          document.querySelector('#df-bf1a6184-e8c8-436e-92be-863a545f1ebc button.colab-df-convert');\n",
              "        buttonEl.style.display =\n",
              "          google.colab.kernel.accessAllowed ? 'block' : 'none';\n",
              "\n",
              "        async function convertToInteractive(key) {\n",
              "          const element = document.querySelector('#df-bf1a6184-e8c8-436e-92be-863a545f1ebc');\n",
              "          const dataTable =\n",
              "            await google.colab.kernel.invokeFunction('convertToInteractive',\n",
              "                                                     [key], {});\n",
              "          if (!dataTable) return;\n",
              "\n",
              "          const docLinkHtml = 'Like what you see? Visit the ' +\n",
              "            '<a target=\"_blank\" href=https://colab.research.google.com/notebooks/data_table.ipynb>data table notebook</a>'\n",
              "            + ' to learn more about interactive tables.';\n",
              "          element.innerHTML = '';\n",
              "          dataTable['output_type'] = 'display_data';\n",
              "          await google.colab.output.renderOutput(dataTable, element);\n",
              "          const docLink = document.createElement('div');\n",
              "          docLink.innerHTML = docLinkHtml;\n",
              "          element.appendChild(docLink);\n",
              "        }\n",
              "      </script>\n",
              "    </div>\n",
              "  </div>\n",
              "  "
            ]
          },
          "metadata": {},
          "execution_count": 26
        }
      ]
    },
    {
      "cell_type": "markdown",
      "metadata": {
        "id": "Vbb8MLh8eQDH"
      },
      "source": [
        "# 3- Divisão da Base\n",
        "\n",
        "Utilizou-se do k-fold, foi dividido a base em Treino e Teste."
      ]
    },
    {
      "cell_type": "code",
      "execution_count": null,
      "metadata": {
        "id": "A4WBK34zDVMN"
      },
      "outputs": [],
      "source": [
        "rkf = RepeatedKFold(n_splits=5, n_repeats=10)"
      ]
    },
    {
      "cell_type": "code",
      "execution_count": null,
      "metadata": {
        "id": "Jxxek6QuDCtb"
      },
      "outputs": [],
      "source": [
        "xtrain, xtest, ytrain, ytest = train_test_split(X, Y, test_size=0.3, stratify=Y)"
      ]
    },
    {
      "cell_type": "code",
      "execution_count": null,
      "metadata": {
        "colab": {
          "base_uri": "https://localhost:8080/"
        },
        "id": "mTgDP28boKh8",
        "outputId": "5e0e3ef4-3d38-4f42-eea4-c339ed3082b3"
      },
      "outputs": [
        {
          "output_type": "display_data",
          "data": {
            "text/plain": [
              "<Figure size 432x288 with 2 Axes>"
            ],
            "image/png": "[encoded data removed]"
          },
          "metadata": {
            "needs_background": "light"
          }
        },
        {
          "output_type": "execute_result",
          "data": {
            "text/plain": [
              "<Axes: title={'center': 'Residuals for Ridge Model'}, xlabel='Predicted Value', ylabel='Residuals'>"
            ]
          },
          "metadata": {},
          "execution_count": 21
        }
      ],
      "source": [
        "model = Ridge()\n",
        "visualizer = ResidualsPlot(model, hist=False, qqplot=True)\n",
        "visualizer.fit(xtrain, ytrain)\n",
        "visualizer.score(xtest, ytest)\n",
        "visualizer.show()"
      ]
    },
    {
      "cell_type": "markdown",
      "metadata": {
        "id": "AZQ_Wor_gWMW"
      },
      "source": [
        "# 4 - Modelagem\n",
        "A modelagem foi dividida em duas etapas:\n",
        "\n",
        "\n",
        "\n",
        "1.   Avaliação prévia do Modelo de AM (KNN, SVM, Árvore de Decisão e/ou Redes Neurais Artificiais, escolher um dentre esses, acho que o melhor seria o de RNA) para verificar a necessidade de implementação de comitês para o dataset proposto.\n",
        "2. Avaliação do comportamento do Modelo após a aplicação dos comitês bagging, boosting, stacking e voting para o dataset proposto.\n",
        "\n",
        "\n"
      ]
    },
    {
      "cell_type": "markdown",
      "source": [
        "##4.1 - Avaliação prévia"
      ],
      "metadata": {
        "id": "X3kS02hSSQFr"
      }
    },
    {
      "cell_type": "markdown",
      "metadata": {
        "id": "hwwl0CbUASx7"
      },
      "source": [
        "###  K-NN ([k-vizinhos mais próximos](https://scikit-learn.org/stable/modules/generated/sklearn.neighbors.KNeighborsClassifier.html))"
      ]
    },
    {
      "cell_type": "code",
      "execution_count": null,
      "metadata": {
        "id": "a3yT93wiPeBk"
      },
      "outputs": [],
      "source": [
        "knn = KNeighborsClassifier(n_neighbors=5)"
      ]
    },
    {
      "cell_type": "code",
      "source": [
        "predictions = []\n",
        "\n",
        "for k in range(1, 13, 2):\n",
        "  knn = KNeighborsClassifier(n_neighbors=k)\n",
        "  knn.fit(xtrain, ytrain)\n",
        "\n",
        "  x_pred = knn.predict(xtrain)\n",
        "  print(\"\\nk-NN para k = \",k)\n",
        "  print(\"TREINO: \\nAcurácia = \", metrics.accuracy_score(ytrain, x_pred))\n",
        "  print(classification_report(ytrain, x_pred))\n",
        "\n",
        "  y_pred = knn.predict(xtest)\n",
        "  predictions.append(y_pred)\n",
        "  print(\"TESTE \\nAcurácia: \", metrics.accuracy_score(ytest, y_pred))\n",
        "  print(classification_report(ytest, y_pred))\n"
      ],
      "metadata": {
        "colab": {
          "base_uri": "https://localhost:8080/"
        },
        "id": "Oj5mr5oBpXzK",
        "outputId": "e14ba0a8-b64f-49b1-ccc0-aba3d0600e49"
      },
      "execution_count": null,
      "outputs": [
        {
          "output_type": "stream",
          "name": "stdout",
          "text": [
            "\n",
            "k-NN para k =  1\n",
            "TREINO: \n",
            "Acurácia =  1.0\n",
            "              precision    recall  f1-score   support\n",
            "\n",
            "           0       1.00      1.00      1.00       279\n",
            "           1       1.00      1.00      1.00       344\n",
            "           2       1.00      1.00      1.00        51\n",
            "\n",
            "    accuracy                           1.00       674\n",
            "   macro avg       1.00      1.00      1.00       674\n",
            "weighted avg       1.00      1.00      1.00       674\n",
            "\n",
            "TESTE \n",
            "Acurácia:  0.9377162629757786\n",
            "              precision    recall  f1-score   support\n",
            "\n",
            "           0       0.93      0.96      0.94       119\n",
            "           1       0.94      0.97      0.96       148\n",
            "           2       1.00      0.59      0.74        22\n",
            "\n",
            "    accuracy                           0.94       289\n",
            "   macro avg       0.96      0.84      0.88       289\n",
            "weighted avg       0.94      0.94      0.93       289\n",
            "\n",
            "\n",
            "k-NN para k =  3\n",
            "TREINO: \n",
            "Acurácia =  0.9451038575667656\n",
            "              precision    recall  f1-score   support\n",
            "\n",
            "           0       0.93      0.94      0.94       279\n",
            "           1       0.95      0.98      0.96       344\n",
            "           2       1.00      0.76      0.87        51\n",
            "\n",
            "    accuracy                           0.95       674\n",
            "   macro avg       0.96      0.89      0.92       674\n",
            "weighted avg       0.95      0.95      0.94       674\n",
            "\n",
            "TESTE \n",
            "Acurácia:  0.9065743944636678\n",
            "              precision    recall  f1-score   support\n",
            "\n",
            "           0       0.88      0.94      0.91       119\n",
            "           1       0.92      0.96      0.94       148\n",
            "           2       1.00      0.36      0.53        22\n",
            "\n",
            "    accuracy                           0.91       289\n",
            "   macro avg       0.93      0.75      0.79       289\n",
            "weighted avg       0.91      0.91      0.90       289\n",
            "\n",
            "\n",
            "k-NN para k =  5\n",
            "TREINO: \n",
            "Acurácia =  0.9317507418397626\n",
            "              precision    recall  f1-score   support\n",
            "\n",
            "           0       0.91      0.93      0.92       279\n",
            "           1       0.94      0.97      0.95       344\n",
            "           2       1.00      0.69      0.81        51\n",
            "\n",
            "    accuracy                           0.93       674\n",
            "   macro avg       0.95      0.86      0.90       674\n",
            "weighted avg       0.93      0.93      0.93       674\n",
            "\n",
            "TESTE \n",
            "Acurácia:  0.8961937716262975\n",
            "              precision    recall  f1-score   support\n",
            "\n",
            "           0       0.87      0.94      0.90       119\n",
            "           1       0.92      0.95      0.93       148\n",
            "           2       1.00      0.27      0.43        22\n",
            "\n",
            "    accuracy                           0.90       289\n",
            "   macro avg       0.93      0.72      0.76       289\n",
            "weighted avg       0.90      0.90      0.88       289\n",
            "\n",
            "\n",
            "k-NN para k =  7\n",
            "TREINO: \n",
            "Acurácia =  0.9198813056379822\n",
            "              precision    recall  f1-score   support\n",
            "\n",
            "           0       0.92      0.92      0.92       279\n",
            "           1       0.91      0.98      0.95       344\n",
            "           2       1.00      0.53      0.69        51\n",
            "\n",
            "    accuracy                           0.92       674\n",
            "   macro avg       0.94      0.81      0.85       674\n",
            "weighted avg       0.92      0.92      0.92       674\n",
            "\n",
            "TESTE \n",
            "Acurácia:  0.8823529411764706\n",
            "              precision    recall  f1-score   support\n",
            "\n",
            "           0       0.85      0.93      0.89       119\n",
            "           1       0.90      0.94      0.92       148\n",
            "           2       1.00      0.23      0.37        22\n",
            "\n",
            "    accuracy                           0.88       289\n",
            "   macro avg       0.92      0.70      0.73       289\n",
            "weighted avg       0.89      0.88      0.87       289\n",
            "\n",
            "\n",
            "k-NN para k =  9\n",
            "TREINO: \n",
            "Acurácia =  0.9020771513353115\n",
            "              precision    recall  f1-score   support\n",
            "\n",
            "           0       0.88      0.92      0.90       279\n",
            "           1       0.91      0.96      0.93       344\n",
            "           2       1.00      0.43      0.60        51\n",
            "\n",
            "    accuracy                           0.90       674\n",
            "   macro avg       0.93      0.77      0.81       674\n",
            "weighted avg       0.91      0.90      0.90       674\n",
            "\n",
            "TESTE \n",
            "Acurácia:  0.8858131487889274\n",
            "              precision    recall  f1-score   support\n",
            "\n",
            "           0       0.87      0.92      0.89       119\n",
            "           1       0.90      0.95      0.92       148\n",
            "           2       1.00      0.23      0.37        22\n",
            "\n",
            "    accuracy                           0.89       289\n",
            "   macro avg       0.92      0.70      0.73       289\n",
            "weighted avg       0.89      0.89      0.87       289\n",
            "\n",
            "\n",
            "k-NN para k =  11\n",
            "TREINO: \n",
            "Acurácia =  0.8946587537091988\n",
            "              precision    recall  f1-score   support\n",
            "\n",
            "           0       0.88      0.91      0.90       279\n",
            "           1       0.90      0.96      0.93       344\n",
            "           2       1.00      0.37      0.54        51\n",
            "\n",
            "    accuracy                           0.89       674\n",
            "   macro avg       0.93      0.75      0.79       674\n",
            "weighted avg       0.90      0.89      0.89       674\n",
            "\n",
            "TESTE \n",
            "Acurácia:  0.8685121107266436\n",
            "              precision    recall  f1-score   support\n",
            "\n",
            "           0       0.85      0.89      0.87       119\n",
            "           1       0.88      0.94      0.91       148\n",
            "           2       1.00      0.27      0.43        22\n",
            "\n",
            "    accuracy                           0.87       289\n",
            "   macro avg       0.91      0.70      0.74       289\n",
            "weighted avg       0.88      0.87      0.86       289\n",
            "\n"
          ]
        }
      ]
    },
    {
      "cell_type": "markdown",
      "metadata": {
        "id": "403-GeOQ7Tcg"
      },
      "source": [
        "### SVM ([Máquinas de Vetores de Suporte](https://scikit-learn.org/stable/modules/svm.html))\n",
        "\n",
        "\n",
        "\n"
      ]
    },
    {
      "cell_type": "code",
      "execution_count": null,
      "metadata": {
        "id": "-kiP5Ajr7dg3"
      },
      "outputs": [],
      "source": [
        "tuned_parameters = [\n",
        "    {\"kernel\": [\"linear\"], \"C\": [1, 10, 100, 1000]},\n",
        "    {\"kernel\": [\"poly\"], \"C\": [1, 10, 100, 1000]},\n",
        "    {\"kernel\": [\"rbf\"], \"gamma\": [1e-3, 1e-4], \"C\": [1, 10, 100, 1000]},\n",
        "    {\"kernel\": [\"sigmoid\"], \"C\": [1, 10, 100, 1000]},\n",
        "]"
      ]
    },
    {
      "cell_type": "code",
      "execution_count": null,
      "metadata": {
        "colab": {
          "base_uri": "https://localhost:8080/"
        },
        "id": "LcOUSK4fmY_1",
        "outputId": "f0bd3222-04fe-4f26-9237-a047052db396"
      },
      "outputs": [
        {
          "output_type": "stream",
          "name": "stdout",
          "text": [
            "\n",
            "\n",
            "\n",
            "\n",
            "TREINO: \n",
            "\n",
            "Média: 0.914 Score: (+/-0.045) com: {'C': 1, 'kernel': 'linear'}\n",
            "Média: 0.913 Score: (+/-0.049) com: {'C': 10, 'kernel': 'linear'}\n",
            "Média: 0.915 Score: (+/-0.047) com: {'C': 100, 'kernel': 'linear'}\n",
            "Média: 0.911 Score: (+/-0.054) com: {'C': 1000, 'kernel': 'linear'}\n",
            "Média: 0.876 Score: (+/-0.045) com: {'C': 1, 'kernel': 'poly'}\n",
            "Média: 0.890 Score: (+/-0.046) com: {'C': 10, 'kernel': 'poly'}\n",
            "Média: 0.903 Score: (+/-0.047) com: {'C': 100, 'kernel': 'poly'}\n",
            "Média: 0.905 Score: (+/-0.053) com: {'C': 1000, 'kernel': 'poly'}\n",
            "Média: 0.510 Score: (+/-0.078) com: {'C': 1, 'gamma': 0.001, 'kernel': 'rbf'}\n",
            "Média: 0.510 Score: (+/-0.078) com: {'C': 1, 'gamma': 0.0001, 'kernel': 'rbf'}\n",
            "Média: 0.842 Score: (+/-0.056) com: {'C': 10, 'gamma': 0.001, 'kernel': 'rbf'}\n",
            "Média: 0.510 Score: (+/-0.078) com: {'C': 10, 'gamma': 0.0001, 'kernel': 'rbf'}\n",
            "Média: 0.886 Score: (+/-0.059) com: {'C': 100, 'gamma': 0.001, 'kernel': 'rbf'}\n",
            "Média: 0.841 Score: (+/-0.056) com: {'C': 100, 'gamma': 0.0001, 'kernel': 'rbf'}\n",
            "Média: 0.912 Score: (+/-0.049) com: {'C': 1000, 'gamma': 0.001, 'kernel': 'rbf'}\n",
            "Média: 0.887 Score: (+/-0.058) com: {'C': 1000, 'gamma': 0.0001, 'kernel': 'rbf'}\n",
            "Média: 0.694 Score: (+/-0.082) com: {'C': 1, 'kernel': 'sigmoid'}\n",
            "Média: 0.672 Score: (+/-0.088) com: {'C': 10, 'kernel': 'sigmoid'}\n",
            "Média: 0.647 Score: (+/-0.074) com: {'C': 100, 'kernel': 'sigmoid'}\n",
            "Média: 0.646 Score: (+/-0.077) com: {'C': 1000, 'kernel': 'sigmoid'}\n",
            "\n",
            "\n",
            "\n",
            "\n",
            "TESTE - Relatório melhor estimador:  {'C': 100, 'kernel': 'linear'}\n",
            "              precision    recall  f1-score   support\n",
            "\n",
            "       M. I.       0.86      0.97      0.91       119\n",
            "       I. E.       0.97      0.89      0.93       148\n",
            "       I. R.       0.95      0.86      0.90        22\n",
            "\n",
            "    accuracy                           0.92       289\n",
            "   macro avg       0.93      0.91      0.91       289\n",
            "weighted avg       0.92      0.92      0.92       289\n",
            "\n"
          ]
        }
      ],
      "source": [
        "clf = GridSearchCV(SVC(), tuned_parameters, cv=rkf)\n",
        "clf.fit(xtrain, ytrain)\n",
        "melhor_modelo = clf.best_params_\n",
        "print(\"\\n\\n\\n\\nTREINO: \\n\")\n",
        "means = clf.cv_results_[\"mean_test_score\"]\n",
        "stds = clf.cv_results_[\"std_test_score\"]\n",
        "for mean, std, params in zip(means, stds, clf.cv_results_[\"params\"]):\n",
        "    print(\"Média: %0.3f Score: (+/-%0.03f) com: %r\" % (mean, std * 2, params))\n",
        "\n",
        "\n",
        "print(\"\\n\\n\\n\\nTESTE - Relatório melhor estimador: \", melhor_modelo)\n",
        "y_true, y_pred = ytest, clf.predict(xtest)\n",
        "print(classification_report(y_true, y_pred, target_names=target_names))"
      ]
    },
    {
      "cell_type": "code",
      "execution_count": null,
      "metadata": {
        "id": "c1sJJw7yZ8XK"
      },
      "outputs": [],
      "source": [
        "# Polinomial kernel SVM\n",
        "svc_pol = SVC(kernel='linear', C=100)"
      ]
    },
    {
      "cell_type": "code",
      "source": [
        "\n",
        "#TREINO\n",
        "svc_pol.fit(xtrain, ytrain)\n",
        "\n",
        "x_pred = svc_pol.predict(xtrain)\n",
        "print(\"\\nSVM - melhor modelo: \", melhor_modelo)\n",
        "print(\"\\nTREINO: \\nAcurácia = \", metrics.accuracy_score(ytrain, x_pred))\n",
        "print(classification_report(ytrain, x_pred))\n",
        "\n",
        "\n",
        "#matriz de confusão - TREINO\n",
        "ConfusionMatrixDisplay.from_estimator(svc_pol, xtrain, ytrain, display_labels=target_names)\n",
        "plt.show()\n",
        "\n"
      ],
      "metadata": {
        "colab": {
          "base_uri": "https://localhost:8080/",
          "height": 539
        },
        "id": "yX0Xn4TGvmTj",
        "outputId": "be202dd9-7fd6-4e7f-de6a-84627f55a5e1"
      },
      "execution_count": null,
      "outputs": [
        {
          "output_type": "stream",
          "name": "stdout",
          "text": [
            "\n",
            "SVM - melhor modelo:  {'C': 100, 'kernel': 'linear'}\n",
            "\n",
            "TREINO: \n",
            "Acurácia =  0.9376854599406528\n",
            "              precision    recall  f1-score   support\n",
            "\n",
            "           0       0.90      0.95      0.93       279\n",
            "           1       0.96      0.92      0.94       344\n",
            "           2       0.98      0.98      0.98        51\n",
            "\n",
            "    accuracy                           0.94       674\n",
            "   macro avg       0.95      0.95      0.95       674\n",
            "weighted avg       0.94      0.94      0.94       674\n",
            "\n"
          ]
        },
        {
          "output_type": "display_data",
          "data": {
            "text/plain": [
              "<Figure size 432x288 with 2 Axes>"
            ],
            "image/png": "[encoded data removed]"
          },
          "metadata": {
            "needs_background": "light"
          }
        }
      ]
    },
    {
      "cell_type": "code",
      "source": [
        "# TESTE\n",
        "y_pred = svc_pol.predict(xtest)\n",
        "predictions.append(y_pred)\n",
        "print(\"\\nSVM - melhor modelo: \", melhor_modelo)\n",
        "print(\"\\nTESTE \\nAcurácia: \", metrics.accuracy_score(ytest, y_pred))\n",
        "print(classification_report(ytest, y_pred))\n",
        "\n",
        "\n",
        "#matriz de confusão - TESTE\n",
        "ConfusionMatrixDisplay.from_estimator(svc_pol, xtest, ytest, display_labels=target_names)\n",
        "plt.show()\n",
        "\n"
      ],
      "metadata": {
        "colab": {
          "base_uri": "https://localhost:8080/",
          "height": 539
        },
        "id": "lN58ouA8wTxb",
        "outputId": "bec84a6c-6ed4-4f01-96a1-1daafdea8a43"
      },
      "execution_count": null,
      "outputs": [
        {
          "output_type": "stream",
          "name": "stdout",
          "text": [
            "\n",
            "SVM - melhor modelo:  {'C': 100, 'kernel': 'linear'}\n",
            "\n",
            "TESTE \n",
            "Acurácia:  0.916955017301038\n",
            "              precision    recall  f1-score   support\n",
            "\n",
            "           0       0.86      0.97      0.91       119\n",
            "           1       0.97      0.89      0.93       148\n",
            "           2       0.95      0.86      0.90        22\n",
            "\n",
            "    accuracy                           0.92       289\n",
            "   macro avg       0.93      0.91      0.91       289\n",
            "weighted avg       0.92      0.92      0.92       289\n",
            "\n"
          ]
        },
        {
          "output_type": "display_data",
          "data": {
            "text/plain": [
              "<Figure size 432x288 with 2 Axes>"
            ],
            "image/png": "[encoded data removed]"
          },
          "metadata": {
            "needs_background": "light"
          }
        }
      ]
    },
    {
      "cell_type": "markdown",
      "metadata": {
        "id": "s-Jw8PlqB85b"
      },
      "source": [
        "### DT ([Árvore de Decisão](https://scikit-learn.org/stable/modules/generated/sklearn.tree.DecisionTreeClassifier.html))"
      ]
    },
    {
      "cell_type": "code",
      "execution_count": null,
      "metadata": {
        "id": "zXWLQRYmtXaw"
      },
      "outputs": [],
      "source": [
        "decision_tree = DecisionTreeClassifier()"
      ]
    },
    {
      "cell_type": "code",
      "execution_count": null,
      "metadata": {
        "id": "nVed6LXdNXsl"
      },
      "outputs": [],
      "source": [
        "param_grid = [{'criterion': [\"gini\",\"entropy\"], 'max_depth': [2, 3, 5, 7, 10], 'min_samples_leaf': [2, 5, 10, 15, 20], 'min_samples_split' : [2,3,4,5,10,15]}]"
      ]
    },
    {
      "cell_type": "code",
      "execution_count": null,
      "metadata": {
        "id": "zKsuKwTGNac3"
      },
      "outputs": [],
      "source": [
        "scoring = {'Accuracy':'accuracy','F1':'f1_macro','Recall':'recall_macro','Precision':'precision_macro'}\n",
        "grid_search = GridSearchCV(estimator=decision_tree, param_grid=param_grid, n_jobs=-1, cv=rkf, scoring=scoring, error_score=0, refit=False)"
      ]
    },
    {
      "cell_type": "code",
      "execution_count": null,
      "metadata": {
        "id": "b5ZQ8rieNdbU"
      },
      "outputs": [],
      "source": [
        "grid_result = grid_search.fit(xtrain, ytrain)"
      ]
    },
    {
      "cell_type": "code",
      "execution_count": null,
      "metadata": {
        "id": "PbDH4kQ3NiTB"
      },
      "outputs": [],
      "source": [
        "means_acc = grid_result.cv_results_['mean_test_Accuracy']\n",
        "means_f1 = grid_result.cv_results_['mean_test_F1']\n",
        "means_pre = grid_result.cv_results_['mean_test_Precision']\n",
        "means_rec = grid_result.cv_results_['mean_test_Recall']\n",
        "params = grid_result.cv_results_['params']"
      ]
    },
    {
      "cell_type": "code",
      "execution_count": null,
      "metadata": {
        "colab": {
          "base_uri": "https://localhost:8080/"
        },
        "id": "XEthceHiCjx8",
        "outputId": "da00de74-1b8a-43b6-a39b-98f621255b25"
      },
      "outputs": [
        {
          "output_type": "stream",
          "name": "stdout",
          "text": [
            "     accuracy  f1_macro  recall_macro  precision_macro       sum criterion  \\\n",
            "0    0.876705  0.768964      0.744416         0.858059  3.248145      gini   \n",
            "1    0.876557  0.768637      0.744329         0.856942  3.246466      gini   \n",
            "2    0.876261  0.767645      0.743887         0.855723  3.243515      gini   \n",
            "3    0.876854  0.769636      0.745432         0.858157  3.250078      gini   \n",
            "4    0.876409  0.767972      0.743974         0.856839  3.245194      gini   \n",
            "..        ...       ...           ...              ...       ...       ...   \n",
            "252  0.874798  0.792023      0.792025         0.813852  3.272698   entropy   \n",
            "253  0.874650  0.790529      0.790419         0.811660  3.267259   entropy   \n",
            "254  0.874797  0.790827      0.790151         0.813179  3.268954   entropy   \n",
            "255  0.875243  0.792034      0.791844         0.813459  3.272580   entropy   \n",
            "256  0.875392  0.792671      0.792581         0.814355  3.275000   entropy   \n",
            "\n",
            "     max_depth  min_samples_leaf  min_samples_split  \n",
            "0            2                 2                  2  \n",
            "1            2                 2                  3  \n",
            "2            2                 2                  4  \n",
            "3            2                 2                  5  \n",
            "4            2                 2                 10  \n",
            "..         ...               ...                ...  \n",
            "252          7                10                  2  \n",
            "253          7                10                  3  \n",
            "254          7                10                  4  \n",
            "255          7                10                  5  \n",
            "256          7                10                 10  \n",
            "\n",
            "[257 rows x 9 columns]\n"
          ]
        }
      ],
      "source": [
        "import csv\n",
        "f = open('arvore.csv', 'w', newline='', encoding='utf-8')\n",
        "w = csv.writer(f)\n",
        "w.writerow(['accuracy', 'f1_macro', 'recall_macro', 'precision_macro', 'sum'])\n",
        "for acc, f1, rec, pre, param in zip(means_acc, means_f1, means_rec, means_pre, params):\n",
        "  if acc != 0:\n",
        "    df2 = pd.DataFrame(params)\n",
        "    w.writerow([acc, f1, rec, pre, (acc+f1+rec+pre)])\n",
        "\n",
        "df = pd.read_csv(\"arvore.csv\",  sep=\",\")\n",
        "conc = pd.concat([df, df2], axis=1, join='inner')\n",
        "print(conc)"
      ]
    },
    {
      "cell_type": "code",
      "source": [
        "gride_tree = GridSearchCV(decision_tree, param_grid, cv=rkf)\n",
        "\n",
        "x_hat = gride_tree.fit(xtrain, ytrain)\n",
        "estimador_tree, escore_tree = gride_tree.best_estimator_, gride_tree.best_score_\n",
        "print(\"\\n\\nMelhor estimador: \",estimador_tree,\"\\nMelhor score: \", escore_tree)"
      ],
      "metadata": {
        "colab": {
          "base_uri": "https://localhost:8080/"
        },
        "id": "54TrcwG-Tp4Y",
        "outputId": "71f52e35-2d8e-4441-b4db-f8897856dc8a"
      },
      "execution_count": null,
      "outputs": [
        {
          "output_type": "stream",
          "name": "stdout",
          "text": [
            "\n",
            "\n",
            "Melhor estimador:  DecisionTreeClassifier(max_depth=10, min_samples_leaf=2, min_samples_split=4) \n",
            "Melhor score:  0.9023714759535655\n"
          ]
        }
      ]
    },
    {
      "cell_type": "markdown",
      "metadata": {
        "id": "9Lg_Oq5bOYQr"
      },
      "source": [
        "TREINO"
      ]
    },
    {
      "cell_type": "code",
      "execution_count": null,
      "metadata": {
        "colab": {
          "base_uri": "https://localhost:8080/",
          "height": 539
        },
        "id": "vXQAKqt7Nmdv",
        "outputId": "9eaa7a1c-5ea7-44a3-fc81-3d3d605ae4ee"
      },
      "outputs": [
        {
          "output_type": "stream",
          "name": "stdout",
          "text": [
            "\n",
            " Árvore de decisão - melhor modelo:  DecisionTreeClassifier(max_depth=10, min_samples_leaf=2, min_samples_split=4)\n",
            "\n",
            "TREINO: \n",
            "Acurácia =  0.9347181008902077\n",
            "              precision    recall  f1-score   support\n",
            "\n",
            "           0       0.89      0.97      0.93       279\n",
            "           1       0.96      0.92      0.94       344\n",
            "           2       1.00      0.82      0.90        51\n",
            "\n",
            "    accuracy                           0.93       674\n",
            "   macro avg       0.95      0.91      0.93       674\n",
            "weighted avg       0.94      0.93      0.93       674\n",
            "\n"
          ]
        },
        {
          "output_type": "display_data",
          "data": {
            "text/plain": [
              "<Figure size 432x288 with 2 Axes>"
            ],
            "image/png": "[encoded data removed]"
          },
          "metadata": {
            "needs_background": "light"
          }
        }
      ],
      "source": [
        "decision_tree = DecisionTreeClassifier(criterion='gini',max_depth=5, min_samples_leaf=2, min_samples_split=4)\n",
        "\n",
        "#TREINO\n",
        "decision_tree.fit(xtrain, ytrain)\n",
        "\n",
        "x_pred = decision_tree.predict(xtrain)\n",
        "print(\"\\n Árvore de decisão - melhor modelo: \", estimador_tree)\n",
        "print(\"\\nTREINO: \\nAcurácia = \", metrics.accuracy_score(ytrain, x_pred))\n",
        "print(classification_report(ytrain, x_pred))\n",
        "\n",
        "#matriz de confusão - TREINO\n",
        "ConfusionMatrixDisplay.from_estimator(decision_tree, xtrain, ytrain, display_labels=target_names)\n",
        "plt.show()"
      ]
    },
    {
      "cell_type": "markdown",
      "metadata": {
        "id": "cgX7_NSFOu3_"
      },
      "source": [
        "TESTE"
      ]
    },
    {
      "cell_type": "code",
      "execution_count": null,
      "metadata": {
        "colab": {
          "base_uri": "https://localhost:8080/",
          "height": 539
        },
        "id": "V8v1dmibOwck",
        "outputId": "64df3325-a284-4a93-aa17-f02bcc468537"
      },
      "outputs": [
        {
          "output_type": "stream",
          "name": "stdout",
          "text": [
            "\n",
            " Árvore de decisão - melhor modelo:  DecisionTreeClassifier(max_depth=10, min_samples_leaf=2, min_samples_split=4)\n",
            "\n",
            "TESTE \n",
            "Acurácia:  0.8858131487889274\n",
            "              precision    recall  f1-score   support\n",
            "\n",
            "           0       0.84      0.96      0.89       119\n",
            "           1       0.93      0.91      0.92       148\n",
            "           2       0.89      0.36      0.52        22\n",
            "\n",
            "    accuracy                           0.89       289\n",
            "   macro avg       0.89      0.74      0.78       289\n",
            "weighted avg       0.89      0.89      0.88       289\n",
            "\n"
          ]
        },
        {
          "output_type": "display_data",
          "data": {
            "text/plain": [
              "<Figure size 432x288 with 2 Axes>"
            ],
            "image/png": "[encoded data removed]"
          },
          "metadata": {
            "needs_background": "light"
          }
        }
      ],
      "source": [
        "\n",
        "# TESTE\n",
        "y_pred = decision_tree.predict(xtest)\n",
        "predictions.append(y_pred)\n",
        "print(\"\\n Árvore de decisão - melhor modelo: \", estimador_tree)\n",
        "print(\"\\nTESTE \\nAcurácia: \", metrics.accuracy_score(ytest, y_pred))\n",
        "print(classification_report(ytest, y_pred))\n",
        "\n",
        "\n",
        "#matriz de confusão - TESTE\n",
        "ConfusionMatrixDisplay.from_estimator(decision_tree, xtest, ytest, display_labels=target_names)\n",
        "plt.show()"
      ]
    },
    {
      "cell_type": "markdown",
      "metadata": {
        "id": "ScQmI4UvZNPR"
      },
      "source": [
        "### ANN ([Redes Neurais Artificiais](https://scikit-learn.org/stable/modules/neural_networks_supervised.html))\n",
        "\n",
        "Utilizou-se do `MLPClassifier` (classificador perceptron multicamadas) do `sklearn` como modelo"
      ]
    },
    {
      "cell_type": "code",
      "execution_count": null,
      "metadata": {
        "id": "MlSWmF6d0zyC"
      },
      "outputs": [],
      "source": [
        "param_dict = {\n",
        "    'alpha': [0.0001, 0.001, 0.01, 0.1, 1.0],\n",
        "    'tol': [0.001, 0.01, 0.1],\n",
        "    'activation': ['identity', 'logistic', 'tanh', 'relu'],\n",
        "}"
      ]
    },
    {
      "cell_type": "code",
      "execution_count": null,
      "metadata": {
        "id": "6XQCxb3b1HZg"
      },
      "outputs": [],
      "source": [
        "net = MLPClassifier(activation='relu', hidden_layer_sizes=(20,),  alpha=0.01, tol=0.001, max_iter=500, solver='sgd')\n",
        "grid = GridSearchCV(net, param_dict, cv=rkf)"
      ]
    },
    {
      "cell_type": "code",
      "source": [
        "#TREINO\n",
        "grid.fit(xtrain, ytrain)\n",
        "\n",
        "x_pred = grid.predict(xtrain)\n",
        "estimador_rna, escore_rna = grid.best_estimator_, grid.best_score_\n",
        "print(\"\\n Rede neural - melhor modelo: \", estimador_rna)\n",
        "print(\"Acurácia = \", metrics.accuracy_score(ytrain, x_pred))\n",
        "\n",
        "\n",
        "#matriz de confusão - TREINO\n",
        "ConfusionMatrixDisplay.from_estimator(grid, xtrain, ytrain, display_labels=target_names)\n",
        "plt.show()"
      ],
      "metadata": {
        "colab": {
          "base_uri": "https://localhost:8080/",
          "height": 348
        },
        "id": "1lMbHajE2D7h",
        "outputId": "99048bb0-3c22-411a-8aa8-5a54db475ce6"
      },
      "execution_count": null,
      "outputs": [
        {
          "output_type": "stream",
          "name": "stdout",
          "text": [
            "\n",
            " Rede neural - melhor modelo:  MLPClassifier(activation='identity', alpha=0.1, hidden_layer_sizes=(20,),\n",
            "              max_iter=500, solver='sgd', tol=0.001)\n",
            "Acurácia =  0.8367952522255193\n"
          ]
        },
        {
          "output_type": "display_data",
          "data": {
            "text/plain": [
              "<Figure size 432x288 with 2 Axes>"
            ],
            "image/png": "[encoded data removed]"
          },
          "metadata": {
            "needs_background": "light"
          }
        }
      ]
    },
    {
      "cell_type": "code",
      "execution_count": null,
      "metadata": {
        "colab": {
          "base_uri": "https://localhost:8080/"
        },
        "id": "TykDg1NrEjL4",
        "outputId": "8c9198e4-e9c1-4dd2-90ad-03e560a9712b"
      },
      "outputs": [
        {
          "output_type": "stream",
          "name": "stdout",
          "text": [
            "\n",
            "\n",
            "TESTE - \n",
            "\n",
            "Relatório melhor estimador:  MLPClassifier(activation='identity', alpha=0.01, hidden_layer_sizes=(20,),\n",
            "              max_iter=500, solver='sgd', tol=0.001)\n",
            "Acurácia =  0.8373702422145328\n",
            "              precision    recall  f1-score   support\n",
            "\n",
            "       M. I.       0.79      0.93      0.86       119\n",
            "       I. E.       0.88      0.89      0.88       148\n",
            "       I. R.       0.00      0.00      0.00        22\n",
            "\n",
            "    accuracy                           0.84       289\n",
            "   macro avg       0.56      0.61      0.58       289\n",
            "weighted avg       0.78      0.84      0.80       289\n",
            "\n"
          ]
        }
      ],
      "source": [
        "x_melhor = grid.best_estimator_.predict(xtrain)\n",
        "y_hat = grid.best_estimator_.predict(xtest)\n",
        "print(\"\\n\\nTESTE - \\n\\nRelatório melhor estimador: \", estimador_rna)\n",
        "print(\"Acurácia = \", metrics.accuracy_score(ytest, y_hat))\n",
        "print(classification_report(ytest, y_hat, target_names=target_names, zero_division=0))"
      ]
    },
    {
      "cell_type": "code",
      "execution_count": null,
      "metadata": {
        "colab": {
          "base_uri": "https://localhost:8080/",
          "height": 290
        },
        "id": "fjAdjImtIqQx",
        "outputId": "d5b08f3d-07dc-4c12-8b85-db0e03b692d3"
      },
      "outputs": [
        {
          "output_type": "display_data",
          "data": {
            "text/plain": [
              "<Figure size 432x288 with 1 Axes>"
            ],
            "image/png": "[encoded data removed]"
          },
          "metadata": {
            "needs_background": "light"
          }
        }
      ],
      "source": [
        "mat = confusion_matrix(ytest, y_hat)\n",
        "fig, ax = plt.subplots()\n",
        "cax = ax.matshow(mat, cmap='summer')\n",
        "ticks = np.arange(0, len(target_names))\n",
        "ax.set_xticks(ticks)\n",
        "ax.set_yticks(ticks)\n",
        "ax.set_xticklabels(target_names, rotation=45, ha='right')\n",
        "ax.set_yticklabels(target_names, rotation=45, ha='right')\n",
        "ax.set_ylabel('True label')\n",
        "ax.set_xlabel('Predicted label')\n",
        "ax.xaxis.set_ticks_position('bottom')\n",
        "\n",
        "for i in range(mat.shape[0]):\n",
        "    for j in range(mat.shape[1]):\n",
        "        ax.text(j, i, mat[i, j], ha='center', va='center')"
      ]
    },
    {
      "cell_type": "code",
      "source": [
        "knn = KNeighborsClassifier(n_neighbors=3)\n",
        "svm = SVC(kernel='linear', C=100)\n",
        "dt = DecisionTreeClassifier(criterion='gini',max_depth=5, min_samples_leaf=2, min_samples_split=4)\n",
        "rna = MLPClassifier(activation='identity', alpha=0.01, hidden_layer_sizes=(20,), max_iter=500, solver='sgd', tol=0.001)"
      ],
      "metadata": {
        "id": "KYaYLMUBD-kh"
      },
      "execution_count": null,
      "outputs": []
    },
    {
      "cell_type": "code",
      "source": [
        "  #matriz de confusão - TESTE\n",
        "  ConfusionMatrixDisplay.from_estimator(svc_pol, xtest, ytest, display_labels=target_names)\n",
        "  plt.show()"
      ],
      "metadata": {
        "id": "6I-e-FtiAETH"
      },
      "execution_count": null,
      "outputs": []
    },
    {
      "cell_type": "code",
      "source": [
        "# Realizar a validação cruzada entre algoritmos individuais\n",
        "for clf, label in zip([knn, svm, dt, rna], ['KNN', 'SVM', 'DT', 'RNA']):\n",
        "    scores = cross_val_score(clf, X, Y, cv=10, scoring='accuracy')\n",
        "    print(\"Accuracy: %0.2f (+/- %0.2f) [%s]\" % (scores.mean(), scores.std(), label))\n",
        "\n",
        "# Gerar o gráfico de barras com as acurácias dos modelos\n",
        "plt.figure(figsize=(8, 6))\n",
        "plt.bar(['KNN', 'SVM', 'DT', 'RNA'], [0.83, 0.89, 0.84, 0.88])\n",
        "plt.ylim(0.8, 0.95)\n",
        "plt.title('Acurácia dos modelos')\n",
        "plt.xlabel('Modelo')\n",
        "plt.ylabel('Acurácia')\n",
        "plt.show()"
      ],
      "metadata": {
        "colab": {
          "base_uri": "https://localhost:8080/",
          "height": 472
        },
        "id": "1YmzzsAPECiF",
        "outputId": "9541bede-c14c-4523-fb7a-0fa3a5d859d1"
      },
      "execution_count": null,
      "outputs": [
        {
          "output_type": "stream",
          "name": "stdout",
          "text": [
            "Accuracy: 0.90 (+/- 0.04) [KNN]\n",
            "Accuracy: 0.88 (+/- 0.05) [SVM]\n",
            "Accuracy: 0.87 (+/- 0.06) [DT]\n",
            "Accuracy: 0.82 (+/- 0.05) [RNA]\n"
          ]
        },
        {
          "output_type": "display_data",
          "data": {
            "text/plain": [
              "<Figure size 576x432 with 1 Axes>"
            ],
            "image/png": "[encoded data removed]"
          },
          "metadata": {
            "needs_background": "light"
          }
        }
      ]
    },
    {
      "cell_type": "code",
      "source": [
        "# Realizar a validação cruzada entre algoritmos individuais\n",
        "for clf, label in zip([knn, svm, dt, rna], ['KNN', 'SVM', 'DT', 'RNA']):\n",
        "    scores = cross_val_score(clf, X, Y, cv=10, scoring='f1_macro')\n",
        "    print(\"Accuracy: %0.2f (+/- %0.2f) [%s]\" % (scores.mean(), scores.std(), label))\n",
        "\n",
        "# Gerar o gráfico de barras com as acurácias dos modelos\n",
        "plt.figure(figsize=(8, 6))\n",
        "plt.bar(['KNN', 'SVM', 'DT', 'RNA'], [0.83, 0.89, 0.84, 0.88])\n",
        "plt.ylim(0.8, 0.95)\n",
        "plt.title('Macro f1-score dos modelos')\n",
        "plt.xlabel('Modelo')\n",
        "plt.ylabel('Macro f1-score')\n",
        "plt.show()"
      ],
      "metadata": {
        "colab": {
          "base_uri": "https://localhost:8080/",
          "height": 472
        },
        "id": "EVZp6XgtEyXg",
        "outputId": "9f88f02c-8f44-4a22-fea3-b4c01632e95d"
      },
      "execution_count": null,
      "outputs": [
        {
          "output_type": "stream",
          "name": "stdout",
          "text": [
            "Accuracy: 0.82 (+/- 0.07) [KNN]\n",
            "Accuracy: 0.86 (+/- 0.07) [SVM]\n",
            "Accuracy: 0.81 (+/- 0.09) [DT]\n",
            "Accuracy: 0.57 (+/- 0.04) [RNA]\n"
          ]
        },
        {
          "output_type": "display_data",
          "data": {
            "text/plain": [
              "<Figure size 576x432 with 1 Axes>"
            ],
            "image/png": "[encoded data removed]"
          },
          "metadata": {
            "needs_background": "light"
          }
        }
      ]
    },
    {
      "cell_type": "code",
      "source": [
        "# Realizar a validação cruzada entre algoritmos individuais\n",
        "for clf, label in zip([knn, svm, dt, rna], ['KNN', 'SVM', 'DT', 'RNA']):\n",
        "    scores = cross_val_score(clf, X, Y, cv=10, scoring='f1_micro')\n",
        "    print(\"Accuracy: %0.2f (+/- %0.2f) [%s]\" % (scores.mean(), scores.std(), label))\n",
        "\n",
        "# Gerar o gráfico de barras com as acurácias dos modelos\n",
        "plt.figure(figsize=(8, 6))\n",
        "plt.bar(['KNN', 'SVM', 'DT', 'RNA'], [0.83, 0.89, 0.84, 0.88])\n",
        "plt.ylim(0.8, 0.95)\n",
        "plt.title('Micro f1-score dos modelos')\n",
        "plt.xlabel('Modelo')\n",
        "plt.ylabel('Micro f1-score')\n",
        "plt.show()"
      ],
      "metadata": {
        "colab": {
          "base_uri": "https://localhost:8080/",
          "height": 472
        },
        "id": "nLMkmRN8Fhrd",
        "outputId": "3187dff5-0161-414e-fa49-255a2ab5a968"
      },
      "execution_count": null,
      "outputs": [
        {
          "output_type": "stream",
          "name": "stdout",
          "text": [
            "Accuracy: 0.90 (+/- 0.04) [KNN]\n",
            "Accuracy: 0.88 (+/- 0.05) [SVM]\n",
            "Accuracy: 0.87 (+/- 0.06) [DT]\n",
            "Accuracy: 0.83 (+/- 0.06) [RNA]\n"
          ]
        },
        {
          "output_type": "display_data",
          "data": {
            "text/plain": [
              "<Figure size 576x432 with 1 Axes>"
            ],
            "image/png": "[encoded data removed]"
          },
          "metadata": {
            "needs_background": "light"
          }
        }
      ]
    },
    {
      "cell_type": "markdown",
      "source": [
        "##4.2 - Avaliação dos comitês nos Modelos de AM"
      ],
      "metadata": {
        "id": "Ajq8PWMeZGHq"
      }
    },
    {
      "cell_type": "markdown",
      "source": [
        "###[Bagging](https://scikit-learn.org/stable/modules/generated/sklearn.ensemble.BaggingClassifier.html)\n",
        "\n",
        "Bagging tem um bom desempenho em geral e fornece a base para todo um campo de algoritmos de árvore de decisão, como os populares algoritmos de floresta aleatória e conjuntos de árvores extras, bem como os menos conhecidos algoritmos de colagem, subespaços aleatórios e patches aleatórios\n",
        "\n",
        "que muitas vezes considera aprendizes fracos homogêneos, aprende-os independentemente uns dos outros em paralelo e os combina seguindo algum tipo de processo de média determinística\n"
      ],
      "metadata": {
        "id": "7bC2PSVbTQ9y"
      }
    },
    {
      "cell_type": "code",
      "source": [
        "# obter uma lista de modelos para avaliar\n",
        "def get_models():\n",
        "  models = dict()\n",
        "  models['KNN'] = KNeighborsClassifier(n_neighbors=3)\n",
        "  models['SVM'] = SVC(kernel='linear', C=100)\n",
        "  models['DT'] = DecisionTreeClassifier(criterion='gini',max_depth=5, min_samples_leaf=2, min_samples_split=4)\n",
        "  models['RNA'] = MLPClassifier(activation='identity', alpha=0.01, hidden_layer_sizes=(20,), max_iter=500, solver='sgd', tol=0.001)\n",
        "\n",
        "  return models"
      ],
      "metadata": {
        "id": "YNIzEgF6rqGA"
      },
      "execution_count": null,
      "outputs": []
    },
    {
      "cell_type": "code",
      "source": [
        "models = get_models()\n",
        "results, names = list(), list()\n",
        "for name, model in models.items():\n",
        "  bagging = BaggingClassifier(model)\n",
        "  bagging.fit(xtrain, ytrain)\n",
        "  y_pred = bagging.predict(xtest)\n",
        "  score = metrics.accuracy_score(ytest, y_pred)\n",
        "  print('\\n\\n>  %s %.4f' % (name, score))\n",
        "  print (classification_report(ytest, y_pred, target_names=target_names, zero_division=0))\n",
        "\n"
      ],
      "metadata": {
        "colab": {
          "base_uri": "https://localhost:8080/"
        },
        "id": "6N8S3n_UWfum",
        "outputId": "ea0fe048-8875-4ead-f934-a31cd9757ad5"
      },
      "execution_count": null,
      "outputs": [
        {
          "output_type": "stream",
          "name": "stdout",
          "text": [
            "\n",
            "\n",
            ">  KNN 0.9031\n",
            "              precision    recall  f1-score   support\n",
            "\n",
            "       M. I.       0.90      0.91      0.90       119\n",
            "       I. E.       0.90      0.95      0.92       148\n",
            "       I. R.       1.00      0.55      0.71        22\n",
            "\n",
            "    accuracy                           0.90       289\n",
            "   macro avg       0.93      0.80      0.84       289\n",
            "weighted avg       0.91      0.90      0.90       289\n",
            "\n",
            "\n",
            "\n",
            ">  SVM 0.8893\n",
            "              precision    recall  f1-score   support\n",
            "\n",
            "       M. I.       0.84      0.93      0.88       119\n",
            "       I. E.       0.93      0.88      0.90       148\n",
            "       I. R.       0.94      0.73      0.82        22\n",
            "\n",
            "    accuracy                           0.89       289\n",
            "   macro avg       0.90      0.85      0.87       289\n",
            "weighted avg       0.89      0.89      0.89       289\n",
            "\n",
            "\n",
            "\n",
            ">  DT 0.8962\n",
            "              precision    recall  f1-score   support\n",
            "\n",
            "       M. I.       0.86      0.94      0.90       119\n",
            "       I. E.       0.93      0.89      0.91       148\n",
            "       I. R.       0.88      0.68      0.77        22\n",
            "\n",
            "    accuracy                           0.90       289\n",
            "   macro avg       0.89      0.84      0.86       289\n",
            "weighted avg       0.90      0.90      0.90       289\n",
            "\n",
            "\n",
            "\n",
            ">  RNA 0.8201\n",
            "              precision    recall  f1-score   support\n",
            "\n",
            "       M. I.       0.78      0.92      0.85       119\n",
            "       I. E.       0.86      0.86      0.86       148\n",
            "       I. R.       0.00      0.00      0.00        22\n",
            "\n",
            "    accuracy                           0.82       289\n",
            "   macro avg       0.55      0.59      0.57       289\n",
            "weighted avg       0.76      0.82      0.79       289\n",
            "\n"
          ]
        }
      ]
    },
    {
      "cell_type": "code",
      "source": [
        "# Realizar a validação cruzada com o ensemble Bagging e os modelos individuais\n",
        "for clf, label in zip([knn, svm, dt, rna, bagging], ['KNN', 'SVM', 'DT', 'RNA', 'Ensemble Bagging']):\n",
        "    scores = cross_val_score(clf, X, Y, cv=10, scoring='accuracy')\n",
        "    print(\"Accuracy: %0.2f (+/- %0.2f) [%s]\" % (scores.mean(), scores.std(), label))\n",
        "\n",
        "# Gerar o gráfico de barras com as acurácias dos modelos\n",
        "plt.figure(figsize=(8, 6))\n",
        "plt.bar(['KNN', 'SVM', 'DT', 'RNA', 'Ensemble Bagging'], [0.83, 0.89, 0.84, 0.88, 0.91])\n",
        "plt.ylim(0.8, 0.95)\n",
        "plt.title('Acurácia dos modelos')\n",
        "plt.xlabel('Modelo')\n",
        "plt.ylabel('Acurácia')\n",
        "plt.show()"
      ],
      "metadata": {
        "colab": {
          "base_uri": "https://localhost:8080/",
          "height": 490
        },
        "id": "8sPvZnTnDMLp",
        "outputId": "7419f424-e48d-4dc0-f629-3c282b6fa0a8"
      },
      "execution_count": null,
      "outputs": [
        {
          "output_type": "stream",
          "name": "stdout",
          "text": [
            "Accuracy: 0.90 (+/- 0.04) [KNN]\n",
            "Accuracy: 0.88 (+/- 0.05) [SVM]\n",
            "Accuracy: 0.87 (+/- 0.06) [DT]\n",
            "Accuracy: 0.83 (+/- 0.07) [RNA]\n",
            "Accuracy: 0.83 (+/- 0.06) [Ensemble Bagging]\n"
          ]
        },
        {
          "output_type": "display_data",
          "data": {
            "text/plain": [
              "<Figure size 576x432 with 1 Axes>"
            ],
            "image/png": "[encoded data removed]"
          },
          "metadata": {
            "needs_background": "light"
          }
        }
      ]
    },
    {
      "cell_type": "markdown",
      "source": [
        "###[Boosting](https://scikit-learn.org/stable/modules/generated/sklearn.ensemble.AdaBoostClassifier.html)\n",
        "\n",
        "que muitas vezes considera aprendizes fracos homogêneos, os aprende sequencialmente de forma muito adaptativa (um modelo base depende dos anteriores) e os combina seguindo uma estratégia determinística\n"
      ],
      "metadata": {
        "id": "eCN-fBD8cqAl"
      }
    },
    {
      "cell_type": "code",
      "source": [
        "# obter uma lista de modelos para avaliar\n",
        "def get_models():\n",
        "  models = dict()\n",
        "  models['SVM'] = SVC(kernel='linear', C=100)\n",
        "  models['DT'] = DecisionTreeClassifier(criterion='gini',max_depth=5, min_samples_leaf=2, min_samples_split=4)\n",
        "\n",
        "  return models"
      ],
      "metadata": {
        "id": "9XN8KZsb5JYc"
      },
      "execution_count": null,
      "outputs": []
    },
    {
      "cell_type": "code",
      "source": [
        "models = get_models()\n",
        "results, names = list(), list()\n",
        "for name, model in models.items():\n",
        "  boosting = AdaBoostClassifier(model, algorithm='SAMME')\n",
        "  boosting.fit(xtrain, ytrain)\n",
        "  y_pred = boosting.predict(xtest)\n",
        "  score = metrics.accuracy_score(ytest, y_pred)\n",
        "  print('\\n\\n>  %s %.4f' % (name, score))\n",
        "  print (classification_report(ytest, y_pred, target_names=target_names, zero_division=0))"
      ],
      "metadata": {
        "colab": {
          "base_uri": "https://localhost:8080/"
        },
        "id": "VOtzLxJ95MWN",
        "outputId": "32e11af1-f93b-42b2-aa59-c2e7d6e3a064"
      },
      "execution_count": null,
      "outputs": [
        {
          "output_type": "stream",
          "name": "stdout",
          "text": [
            "\n",
            "\n",
            ">  SVM 0.9170\n",
            "              precision    recall  f1-score   support\n",
            "\n",
            "       M. I.       0.86      0.99      0.92       119\n",
            "       I. E.       0.97      0.89      0.93       148\n",
            "       I. R.       1.00      0.73      0.84        22\n",
            "\n",
            "    accuracy                           0.92       289\n",
            "   macro avg       0.94      0.87      0.90       289\n",
            "weighted avg       0.93      0.92      0.92       289\n",
            "\n",
            "\n",
            "\n",
            ">  DT 0.9516\n",
            "              precision    recall  f1-score   support\n",
            "\n",
            "       M. I.       0.94      0.97      0.96       119\n",
            "       I. E.       0.96      0.97      0.96       148\n",
            "       I. R.       0.94      0.73      0.82        22\n",
            "\n",
            "    accuracy                           0.95       289\n",
            "   macro avg       0.95      0.89      0.91       289\n",
            "weighted avg       0.95      0.95      0.95       289\n",
            "\n"
          ]
        }
      ]
    },
    {
      "cell_type": "code",
      "source": [
        "  boosting = AdaBoostClassifier(SVC(kernel='linear', C=100), algorithm='SAMME')\n",
        "  boosting.fit(xtrain, ytrain)\n",
        "  y_pred = boosting.predict(xtest)\n",
        "  score = metrics.accuracy_score(ytest, y_pred)\n",
        "  print('> SVM %.4f' % (score))\n",
        "  print (classification_report(ytest, y_pred, target_names=target_names, zero_division=0))"
      ],
      "metadata": {
        "colab": {
          "base_uri": "https://localhost:8080/"
        },
        "outputId": "ca4d2e91-5fd8-4951-ffad-4efafb03a441",
        "id": "t5xoY2dFp-bo"
      },
      "execution_count": null,
      "outputs": [
        {
          "output_type": "stream",
          "name": "stdout",
          "text": [
            "> SVM 0.9170\n",
            "              precision    recall  f1-score   support\n",
            "\n",
            "       M. I.       0.86      0.99      0.92       119\n",
            "       I. E.       0.97      0.89      0.93       148\n",
            "       I. R.       1.00      0.73      0.84        22\n",
            "\n",
            "    accuracy                           0.92       289\n",
            "   macro avg       0.94      0.87      0.90       289\n",
            "weighted avg       0.93      0.92      0.92       289\n",
            "\n"
          ]
        }
      ]
    },
    {
      "cell_type": "code",
      "source": [
        "  boosting = AdaBoostClassifier(DecisionTreeClassifier(criterion='gini',max_depth=5, min_samples_leaf=2, min_samples_split=4))\n",
        "  boosting.fit(xtrain, ytrain)\n",
        "  y_pred = boosting.predict(xtest)\n",
        "  score = metrics.accuracy_score(ytest, y_pred)\n",
        "  print('> DT %.4f' % (score))\n",
        "  print (classification_report(ytest, y_pred, target_names=target_names, zero_division=0))"
      ],
      "metadata": {
        "colab": {
          "base_uri": "https://localhost:8080/"
        },
        "id": "Psr-Rilssa1j",
        "outputId": "0facd6d2-0879-4067-c35b-bcd23929dbd1"
      },
      "execution_count": null,
      "outputs": [
        {
          "output_type": "stream",
          "name": "stdout",
          "text": [
            "> DT 0.9377\n",
            "              precision    recall  f1-score   support\n",
            "\n",
            "       M. I.       0.93      0.96      0.94       119\n",
            "       I. E.       0.95      0.95      0.95       148\n",
            "       I. R.       0.94      0.73      0.82        22\n",
            "\n",
            "    accuracy                           0.94       289\n",
            "   macro avg       0.94      0.88      0.90       289\n",
            "weighted avg       0.94      0.94      0.94       289\n",
            "\n"
          ]
        }
      ]
    },
    {
      "cell_type": "code",
      "source": [
        "# Realizar a validação cruzada com o ensemble Boosting e os modelos individuais\n",
        "for clf, label in zip([svm, dt, boosting], ['SVM', 'DT', 'Ensemble Boosting']):\n",
        "    scores = cross_val_score(clf, X, Y, cv=10, scoring='accuracy')\n",
        "    print(\"Accuracy: %0.2f (+/- %0.2f) [%s]\" % (scores.mean(), scores.std(), label))\n",
        "\n",
        "# Gerar o gráfico de barras com as acurácias dos modelos\n",
        "plt.figure(figsize=(8, 6))\n",
        "plt.bar(['SVM', 'DT', 'Ensemble Boosting'], [0.89, 0.84, 0.88])\n",
        "plt.ylim(0.8, 0.95)\n",
        "plt.title('Acurácia dos modelos')\n",
        "plt.xlabel('Modelo')\n",
        "plt.ylabel('Acurácia')\n",
        "plt.show()"
      ],
      "metadata": {
        "colab": {
          "base_uri": "https://localhost:8080/",
          "height": 455
        },
        "id": "wSZkbCxcCSUR",
        "outputId": "fba06a4e-6e44-4db1-a9b8-b491b368724e"
      },
      "execution_count": null,
      "outputs": [
        {
          "output_type": "stream",
          "name": "stdout",
          "text": [
            "Accuracy: 0.88 (+/- 0.05) [SVM]\n",
            "Accuracy: 0.86 (+/- 0.05) [DT]\n",
            "Accuracy: 0.92 (+/- 0.05) [Ensemble Boosting]\n"
          ]
        },
        {
          "output_type": "display_data",
          "data": {
            "text/plain": [
              "<Figure size 576x432 with 1 Axes>"
            ],
            "image/png": "[encoded data removed]"
          },
          "metadata": {
            "needs_background": "light"
          }
        }
      ]
    },
    {
      "cell_type": "markdown",
      "source": [
        "###[Stacking](https://scikit-learn.org/stable/modules/generated/sklearn.ensemble.StackingClassifier.html)\n",
        "\n",
        "que geralmente considera aprendizes fracos heterogêneos, aprende-os em paralelo e os combina treinando um meta-modelo para produzir uma previsão com base nas diferentes previsões de modelos fracos"
      ],
      "metadata": {
        "id": "N6nkMLoBct3g"
      }
    },
    {
      "cell_type": "code",
      "source": [
        "knn = KNeighborsClassifier(n_neighbors=3)\n",
        "svm = SVC(kernel='linear', C=100)\n",
        "dt = DecisionTreeClassifier(criterion='gini',max_depth=5, min_samples_leaf=2, min_samples_split=4)\n",
        "rna = MLPClassifier(activation='identity', alpha=0.01, hidden_layer_sizes=(20,), max_iter=500, solver='sgd', tol=0.001)\n",
        ""
      ],
      "metadata": {
        "id": "SX0pD1S2uXv6"
      },
      "execution_count": null,
      "outputs": []
    },
    {
      "cell_type": "code",
      "source": [
        "estimators = [\n",
        "            ('knn',knn),\n",
        "            ('svm',svm),\n",
        "            ('dt',dt),\n",
        "            ('rna',rna),\n",
        "            ]"
      ],
      "metadata": {
        "id": "1oQDQF8buNPp"
      },
      "execution_count": null,
      "outputs": []
    },
    {
      "cell_type": "code",
      "source": [
        "# Definindo o modelo ensemble com a estratégia de Stacking\n",
        "ensemble_stacking = StackingClassifier(estimators=estimators, cv=5)"
      ],
      "metadata": {
        "id": "MiUhpCgXx0nt"
      },
      "execution_count": null,
      "outputs": []
    },
    {
      "cell_type": "code",
      "source": [
        "# Treinando o modelo ensemble\n",
        "ensemble_stacking.fit(xtrain,ytrain)"
      ],
      "metadata": {
        "colab": {
          "base_uri": "https://localhost:8080/",
          "height": 161
        },
        "id": "wCtfS0jFx3dD",
        "outputId": "7b00cf0e-5722-4ed5-c27b-b25f7d5ddbdf"
      },
      "execution_count": null,
      "outputs": [
        {
          "output_type": "execute_result",
          "data": {
            "text/plain": [
              "StackingClassifier(cv=5,\n",
              "                   estimators=[('knn', KNeighborsClassifier(n_neighbors=3)),\n",
              "                               ('svm', SVC(C=100, kernel='linear')),\n",
              "                               ('dt',\n",
              "                                DecisionTreeClassifier(max_depth=5,\n",
              "                                                       min_samples_leaf=2,\n",
              "                                                       min_samples_split=4)),\n",
              "                               ('rna',\n",
              "                                MLPClassifier(activation='identity',\n",
              "                                              hidden_layer_sizes=(20,),\n",
              "                                              max_iter=500, solver='sgd',\n",
              "                                              tol=0.001))])"
            ],
            "text/html": [
              "<style>#sk-container-id-1 {color: black;background-color: white;}#sk-container-id-1 pre{padding: 0;}#sk-container-id-1 div.sk-toggleable {background-color: white;}#sk-container-id-1 label.sk-toggleable__label {cursor: pointer;display: block;width: 100%;margin-bottom: 0;padding: 0.3em;box-sizing: border-box;text-align: center;}#sk-container-id-1 label.sk-toggleable__label-arrow:before {content: \"▸\";float: left;margin-right: 0.25em;color: #696969;}#sk-container-id-1 label.sk-toggleable__label-arrow:hover:before {color: black;}#sk-container-id-1 div.sk-estimator:hover label.sk-toggleable__label-arrow:before {color: black;}#sk-container-id-1 div.sk-toggleable__content {max-height: 0;max-width: 0;overflow: hidden;text-align: left;background-color: #f0f8ff;}#sk-container-id-1 div.sk-toggleable__content pre {margin: 0.2em;color: black;border-radius: 0.25em;background-color: #f0f8ff;}#sk-container-id-1 input.sk-toggleable__control:checked~div.sk-toggleable__content {max-height: 200px;max-width: 100%;overflow: auto;}#sk-container-id-1 input.sk-toggleable__control:checked~label.sk-toggleable__label-arrow:before {content: \"▾\";}#sk-container-id-1 div.sk-estimator input.sk-toggleable__control:checked~label.sk-toggleable__label {background-color: #d4ebff;}#sk-container-id-1 div.sk-label input.sk-toggleable__control:checked~label.sk-toggleable__label {background-color: #d4ebff;}#sk-container-id-1 input.sk-hidden--visually {border: 0;clip: rect(1px 1px 1px 1px);clip: rect(1px, 1px, 1px, 1px);height: 1px;margin: -1px;overflow: hidden;padding: 0;position: absolute;width: 1px;}#sk-container-id-1 div.sk-estimator {font-family: monospace;background-color: #f0f8ff;border: 1px dotted black;border-radius: 0.25em;box-sizing: border-box;margin-bottom: 0.5em;}#sk-container-id-1 div.sk-estimator:hover {background-color: #d4ebff;}#sk-container-id-1 div.sk-parallel-item::after {content: \"\";width: 100%;border-bottom: 1px solid gray;flex-grow: 1;}#sk-container-id-1 div.sk-label:hover label.sk-toggleable__label {background-color: #d4ebff;}#sk-container-id-1 div.sk-serial::before {content: \"\";position: absolute;border-left: 1px solid gray;box-sizing: border-box;top: 0;bottom: 0;left: 50%;z-index: 0;}#sk-container-id-1 div.sk-serial {display: flex;flex-direction: column;align-items: center;background-color: white;padding-right: 0.2em;padding-left: 0.2em;position: relative;}#sk-container-id-1 div.sk-item {position: relative;z-index: 1;}#sk-container-id-1 div.sk-parallel {display: flex;align-items: stretch;justify-content: center;background-color: white;position: relative;}#sk-container-id-1 div.sk-item::before, #sk-container-id-1 div.sk-parallel-item::before {content: \"\";position: absolute;border-left: 1px solid gray;box-sizing: border-box;top: 0;bottom: 0;left: 50%;z-index: -1;}#sk-container-id-1 div.sk-parallel-item {display: flex;flex-direction: column;z-index: 1;position: relative;background-color: white;}#sk-container-id-1 div.sk-parallel-item:first-child::after {align-self: flex-end;width: 50%;}#sk-container-id-1 div.sk-parallel-item:last-child::after {align-self: flex-start;width: 50%;}#sk-container-id-1 div.sk-parallel-item:only-child::after {width: 0;}#sk-container-id-1 div.sk-dashed-wrapped {border: 1px dashed gray;margin: 0 0.4em 0.5em 0.4em;box-sizing: border-box;padding-bottom: 0.4em;background-color: white;}#sk-container-id-1 div.sk-label label {font-family: monospace;font-weight: bold;display: inline-block;line-height: 1.2em;}#sk-container-id-1 div.sk-label-container {text-align: center;}#sk-container-id-1 div.sk-container {/* jupyter's `normalize.less` sets `[hidden] { display: none; }` but bootstrap.min.css set `[hidden] { display: none !important; }` so we also need the `!important` here to be able to override the default hidden behavior on the sphinx rendered scikit-learn.org. See: https://github.com/scikit-learn/scikit-learn/issues/21755 */display: inline-block !important;position: relative;}#sk-container-id-1 div.sk-text-repr-fallback {display: none;}</style><div id=\"sk-container-id-1\" class=\"sk-top-container\"><div class=\"sk-text-repr-fallback\"><pre>StackingClassifier(cv=5,\n",
              "                   estimators=[(&#x27;knn&#x27;, KNeighborsClassifier(n_neighbors=3)),\n",
              "                               (&#x27;svm&#x27;, SVC(C=100, kernel=&#x27;linear&#x27;)),\n",
              "                               (&#x27;dt&#x27;,\n",
              "                                DecisionTreeClassifier(max_depth=5,\n",
              "                                                       min_samples_leaf=2,\n",
              "                                                       min_samples_split=4)),\n",
              "                               (&#x27;rna&#x27;,\n",
              "                                MLPClassifier(activation=&#x27;identity&#x27;,\n",
              "                                              hidden_layer_sizes=(20,),\n",
              "                                              max_iter=500, solver=&#x27;sgd&#x27;,\n",
              "                                              tol=0.001))])</pre><b>In a Jupyter environment, please rerun this cell to show the HTML representation or trust the notebook. <br />On GitHub, the HTML representation is unable to render, please try loading this page with nbviewer.org.</b></div><div class=\"sk-container\" hidden><div class=\"sk-item sk-dashed-wrapped\"><div class=\"sk-label-container\"><div class=\"sk-label sk-toggleable\"><input class=\"sk-toggleable__control sk-hidden--visually\" id=\"sk-estimator-id-1\" type=\"checkbox\" ><label for=\"sk-estimator-id-1\" class=\"sk-toggleable__label sk-toggleable__label-arrow\">StackingClassifier</label><div class=\"sk-toggleable__content\"><pre>StackingClassifier(cv=5,\n",
              "                   estimators=[(&#x27;knn&#x27;, KNeighborsClassifier(n_neighbors=3)),\n",
              "                               (&#x27;svm&#x27;, SVC(C=100, kernel=&#x27;linear&#x27;)),\n",
              "                               (&#x27;dt&#x27;,\n",
              "                                DecisionTreeClassifier(max_depth=5,\n",
              "                                                       min_samples_leaf=2,\n",
              "                                                       min_samples_split=4)),\n",
              "                               (&#x27;rna&#x27;,\n",
              "                                MLPClassifier(activation=&#x27;identity&#x27;,\n",
              "                                              hidden_layer_sizes=(20,),\n",
              "                                              max_iter=500, solver=&#x27;sgd&#x27;,\n",
              "                                              tol=0.001))])</pre></div></div></div><div class=\"sk-serial\"><div class=\"sk-item\"><div class=\"sk-parallel\"><div class=\"sk-parallel-item\"><div class=\"sk-item\"><div class=\"sk-label-container\"><div class=\"sk-label sk-toggleable\"><label>knn</label></div></div><div class=\"sk-serial\"><div class=\"sk-item\"><div class=\"sk-estimator sk-toggleable\"><input class=\"sk-toggleable__control sk-hidden--visually\" id=\"sk-estimator-id-2\" type=\"checkbox\" ><label for=\"sk-estimator-id-2\" class=\"sk-toggleable__label sk-toggleable__label-arrow\">KNeighborsClassifier</label><div class=\"sk-toggleable__content\"><pre>KNeighborsClassifier(n_neighbors=3)</pre></div></div></div></div></div></div><div class=\"sk-parallel-item\"><div class=\"sk-item\"><div class=\"sk-label-container\"><div class=\"sk-label sk-toggleable\"><label>svm</label></div></div><div class=\"sk-serial\"><div class=\"sk-item\"><div class=\"sk-estimator sk-toggleable\"><input class=\"sk-toggleable__control sk-hidden--visually\" id=\"sk-estimator-id-3\" type=\"checkbox\" ><label for=\"sk-estimator-id-3\" class=\"sk-toggleable__label sk-toggleable__label-arrow\">SVC</label><div class=\"sk-toggleable__content\"><pre>SVC(C=100, kernel=&#x27;linear&#x27;)</pre></div></div></div></div></div></div><div class=\"sk-parallel-item\"><div class=\"sk-item\"><div class=\"sk-label-container\"><div class=\"sk-label sk-toggleable\"><label>dt</label></div></div><div class=\"sk-serial\"><div class=\"sk-item\"><div class=\"sk-estimator sk-toggleable\"><input class=\"sk-toggleable__control sk-hidden--visually\" id=\"sk-estimator-id-4\" type=\"checkbox\" ><label for=\"sk-estimator-id-4\" class=\"sk-toggleable__label sk-toggleable__label-arrow\">DecisionTreeClassifier</label><div class=\"sk-toggleable__content\"><pre>DecisionTreeClassifier(max_depth=5, min_samples_leaf=2, min_samples_split=4)</pre></div></div></div></div></div></div><div class=\"sk-parallel-item\"><div class=\"sk-item\"><div class=\"sk-label-container\"><div class=\"sk-label sk-toggleable\"><label>rna</label></div></div><div class=\"sk-serial\"><div class=\"sk-item\"><div class=\"sk-estimator sk-toggleable\"><input class=\"sk-toggleable__control sk-hidden--visually\" id=\"sk-estimator-id-5\" type=\"checkbox\" ><label for=\"sk-estimator-id-5\" class=\"sk-toggleable__label sk-toggleable__label-arrow\">MLPClassifier</label><div class=\"sk-toggleable__content\"><pre>MLPClassifier(activation=&#x27;identity&#x27;, hidden_layer_sizes=(20,), max_iter=500,\n",
              "              solver=&#x27;sgd&#x27;, tol=0.001)</pre></div></div></div></div></div></div></div></div><div class=\"sk-item\"><div class=\"sk-parallel\"><div class=\"sk-parallel-item\"><div class=\"sk-item\"><div class=\"sk-label-container\"><div class=\"sk-label sk-toggleable\"><label>final_estimator</label></div></div><div class=\"sk-serial\"><div class=\"sk-item\"><div class=\"sk-estimator sk-toggleable\"><input class=\"sk-toggleable__control sk-hidden--visually\" id=\"sk-estimator-id-6\" type=\"checkbox\" ><label for=\"sk-estimator-id-6\" class=\"sk-toggleable__label sk-toggleable__label-arrow\">LogisticRegression</label><div class=\"sk-toggleable__content\"><pre>LogisticRegression()</pre></div></div></div></div></div></div></div></div></div></div></div></div>"
            ]
          },
          "metadata": {},
          "execution_count": 31
        }
      ]
    },
    {
      "cell_type": "code",
      "source": [
        "# Fazendo as previsões no conjunto de testes\n",
        "y_pred = ensemble_stacking.predict(xtest)\n",
        "print(\"> Stacking metrícas: \", metrics.accuracy_score(ytest, y_pred))\n",
        "print(classification_report(ytest, y_pred, target_names=target_names, zero_division=0))"
      ],
      "metadata": {
        "colab": {
          "base_uri": "https://localhost:8080/"
        },
        "id": "9NfruM7Ix_cm",
        "outputId": "13336645-f0e6-4d15-ca48-b44fb8cd9aa8"
      },
      "execution_count": null,
      "outputs": [
        {
          "output_type": "stream",
          "name": "stdout",
          "text": [
            "> Stacking metrícas:  0.9273356401384083\n",
            "              precision    recall  f1-score   support\n",
            "\n",
            "       M. I.       0.93      0.93      0.93       119\n",
            "       I. E.       0.93      0.95      0.94       148\n",
            "       I. R.       0.89      0.73      0.80        22\n",
            "\n",
            "    accuracy                           0.93       289\n",
            "   macro avg       0.92      0.87      0.89       289\n",
            "weighted avg       0.93      0.93      0.93       289\n",
            "\n"
          ]
        }
      ]
    },
    {
      "cell_type": "code",
      "source": [
        "stacking_knn = StackingClassifier(estimators=estimators, final_estimator=knn, cv=5)\n",
        "stacking_svm = StackingClassifier(estimators=estimators, final_estimator=svm, cv=5)\n",
        "stacking_dt = StackingClassifier(estimators=estimators, final_estimator=dt, cv=5)\n",
        "stacking_rna = StackingClassifier(estimators=estimators, final_estimator=rna, cv=5)"
      ],
      "metadata": {
        "id": "XsTWM_8xt9G_"
      },
      "execution_count": null,
      "outputs": []
    },
    {
      "cell_type": "code",
      "source": [
        "#knn\n",
        "stacking_knn.fit(xtrain,ytrain)\n",
        "y_pred = stacking_knn.predict(xtest)\n",
        "print(\"> KNN \", metrics.accuracy_score(ytest, y_pred))\n",
        "print(classification_report(ytest, y_pred, target_names=target_names, zero_division=0))"
      ],
      "metadata": {
        "colab": {
          "base_uri": "https://localhost:8080/"
        },
        "id": "dAEOzKZouvt8",
        "outputId": "c7d1ac37-fcae-43d0-df07-f192a5f28602"
      },
      "execution_count": null,
      "outputs": [
        {
          "output_type": "stream",
          "name": "stdout",
          "text": [
            "> KNN  0.9204152249134948\n",
            "              precision    recall  f1-score   support\n",
            "\n",
            "       M. I.       0.92      0.92      0.92       119\n",
            "       I. E.       0.93      0.95      0.94       148\n",
            "       I. R.       0.89      0.73      0.80        22\n",
            "\n",
            "    accuracy                           0.92       289\n",
            "   macro avg       0.91      0.87      0.89       289\n",
            "weighted avg       0.92      0.92      0.92       289\n",
            "\n"
          ]
        }
      ]
    },
    {
      "cell_type": "code",
      "source": [
        "#svm\n",
        "stacking_svm.fit(xtrain,ytrain)\n",
        "y_pred = stacking_svm.predict(xtest)\n",
        "print(\"> SVM \", metrics.accuracy_score(ytest, y_pred))\n",
        "print(classification_report(ytest, y_pred, target_names=target_names, zero_division=0))"
      ],
      "metadata": {
        "colab": {
          "base_uri": "https://localhost:8080/"
        },
        "id": "lQbZeNBPvtlD",
        "outputId": "1e3826dc-143e-4178-90ff-76279e9be95a"
      },
      "execution_count": null,
      "outputs": [
        {
          "output_type": "stream",
          "name": "stdout",
          "text": [
            "> SVM  0.9342560553633218\n",
            "              precision    recall  f1-score   support\n",
            "\n",
            "       M. I.       0.91      0.96      0.93       119\n",
            "       I. E.       0.96      0.94      0.95       148\n",
            "       I. R.       0.89      0.77      0.83        22\n",
            "\n",
            "    accuracy                           0.93       289\n",
            "   macro avg       0.92      0.89      0.90       289\n",
            "weighted avg       0.93      0.93      0.93       289\n",
            "\n"
          ]
        }
      ]
    },
    {
      "cell_type": "code",
      "source": [
        "#Árvore de decisão\n",
        "stacking_dt.fit(xtrain,ytrain)\n",
        "y_pred = stacking_dt.predict(xtest)\n",
        "print(\"> DT \", metrics.accuracy_score(ytest, y_pred))\n",
        "print(classification_report(ytest, y_pred, target_names=target_names, zero_division=0))"
      ],
      "metadata": {
        "colab": {
          "base_uri": "https://localhost:8080/"
        },
        "id": "QFqoBO9Fv0WX",
        "outputId": "8be93a16-bfc5-46f4-ee19-a11e3a45a2b9"
      },
      "execution_count": null,
      "outputs": [
        {
          "output_type": "stream",
          "name": "stdout",
          "text": [
            "> DT  0.8961937716262975\n",
            "              precision    recall  f1-score   support\n",
            "\n",
            "       M. I.       0.85      0.95      0.90       119\n",
            "       I. E.       0.94      0.88      0.91       148\n",
            "       I. R.       0.89      0.73      0.80        22\n",
            "\n",
            "    accuracy                           0.90       289\n",
            "   macro avg       0.89      0.85      0.87       289\n",
            "weighted avg       0.90      0.90      0.90       289\n",
            "\n"
          ]
        }
      ]
    },
    {
      "cell_type": "code",
      "source": [
        "#Redes neurais\n",
        "stacking_rna.fit(xtrain,ytrain)\n",
        "y_pred = stacking_rna.predict(xtest)\n",
        "print(\"> RNA \", metrics.accuracy_score(ytest, y_pred))\n",
        "print (classification_report(ytest, y_pred, target_names=target_names, zero_division=0))"
      ],
      "metadata": {
        "colab": {
          "base_uri": "https://localhost:8080/"
        },
        "id": "4cXHIdGWv0v5",
        "outputId": "033f9ba2-2d08-4a4d-8425-10733a0a8c4c"
      },
      "execution_count": null,
      "outputs": [
        {
          "output_type": "stream",
          "name": "stdout",
          "text": [
            "> RNA  0.8927335640138409\n",
            "              precision    recall  f1-score   support\n",
            "\n",
            "       M. I.       0.85      0.94      0.90       119\n",
            "       I. E.       0.92      0.89      0.90       148\n",
            "       I. R.       0.94      0.68      0.79        22\n",
            "\n",
            "    accuracy                           0.89       289\n",
            "   macro avg       0.90      0.84      0.86       289\n",
            "weighted avg       0.90      0.89      0.89       289\n",
            "\n"
          ]
        }
      ]
    },
    {
      "cell_type": "code",
      "source": [
        "# Realizar a validação cruzada com o ensemble Stacking e os modelos individuais\n",
        "for clf, label in zip([knn, svm, dt, rna, ensemble_stacking], ['KNN', 'SVM', 'DT', 'RNA', 'Ensemble Stacking']):\n",
        "    scores = cross_val_score(clf, X, Y, cv=10, scoring='accuracy')\n",
        "    print(\"Accuracy: %0.2f (+/- %0.2f) [%s]\" % (scores.mean(), scores.std(), label))\n",
        "\n",
        "# Gerar o gráfico de barras com as acurácias dos modelos\n",
        "plt.figure(figsize=(8, 6))\n",
        "plt.bar(['KNN', 'SVM', 'DT', 'RNA', 'Ensemble Stacking'], [0.83, 0.89, 0.84, 0.88, 0.91])\n",
        "plt.ylim(0.8, 0.95)\n",
        "plt.title('Acurácia dos modelos')\n",
        "plt.xlabel('Modelo')\n",
        "plt.ylabel('Acurácia')\n",
        "plt.show()"
      ],
      "metadata": {
        "id": "_z3chddGBoE0"
      },
      "execution_count": null,
      "outputs": []
    },
    {
      "cell_type": "markdown",
      "source": [
        "###[Voting](https://scikit-learn.org/stable/modules/generated/sklearn.ensemble.VotingClassifier.html)\n",
        "\n",
        "Na estratégia de Voting, cada modelo é treinado independentemente e, em seguida, suas previsões são combinadas por meio de uma votação. Existem duas formas de votação: a votação dura (hard voting) e a votação suave (soft voting). Na votação dura, a classe prevista pela maioria dos modelos é selecionada como a previsão final, enquanto na votação suave, é feita uma média das probabilidades previstas por cada modelo e a classe com a maior probabilidade é selecionada como a previsão final.\n"
      ],
      "metadata": {
        "id": "B4duOJ3Qm5Qo"
      }
    },
    {
      "cell_type": "code",
      "source": [
        "knn = KNeighborsClassifier(n_neighbors=3)\n",
        "svm = SVC(kernel='linear', C=100)\n",
        "dt = DecisionTreeClassifier(criterion='gini',max_depth=5, min_samples_leaf=2, min_samples_split=4)\n",
        "rna = MLPClassifier(activation='identity', alpha=0.01, hidden_layer_sizes=(20,), max_iter=500, solver='sgd', tol=0.001)"
      ],
      "metadata": {
        "id": "ZWh5eOYMnKSD"
      },
      "execution_count": null,
      "outputs": []
    },
    {
      "cell_type": "code",
      "source": [
        "estimators = [\n",
        "            ('knn',knn),\n",
        "            ('svm',svm),\n",
        "            ('dt',dt),\n",
        "            ('rna',rna),\n",
        "            ]"
      ],
      "metadata": {
        "id": "FlQjbdgKnU36"
      },
      "execution_count": null,
      "outputs": []
    },
    {
      "cell_type": "code",
      "source": [
        "# Definindo o modelo ensemble com a estratégia de Voting\n",
        "ensemble_voting = VotingClassifier(estimators=estimators, voting='hard')\n"
      ],
      "metadata": {
        "id": "tGGz9d9dn0nO"
      },
      "execution_count": null,
      "outputs": []
    },
    {
      "cell_type": "code",
      "source": [
        "# Treinando o modelo ensemble\n",
        "ensemble_voting.fit(xtrain,ytrain)"
      ],
      "metadata": {
        "colab": {
          "base_uri": "https://localhost:8080/",
          "height": 109
        },
        "id": "lo82b4rEn8Ia",
        "outputId": "f8291322-26ec-4bcc-ad67-2bd92d5ae926"
      },
      "execution_count": null,
      "outputs": [
        {
          "output_type": "execute_result",
          "data": {
            "text/plain": [
              "VotingClassifier(estimators=[('knn', KNeighborsClassifier(n_neighbors=3)),\n",
              "                             ('svm', SVC(C=100, kernel='linear')),\n",
              "                             ('dt',\n",
              "                              DecisionTreeClassifier(max_depth=5,\n",
              "                                                     min_samples_leaf=2,\n",
              "                                                     min_samples_split=4)),\n",
              "                             ('rna',\n",
              "                              MLPClassifier(activation='identity',\n",
              "                                            hidden_layer_sizes=(20,),\n",
              "                                            max_iter=500, solver='sgd',\n",
              "                                            tol=0.001))])"
            ],
            "text/html": [
              "<style>#sk-container-id-2 {color: black;background-color: white;}#sk-container-id-2 pre{padding: 0;}#sk-container-id-2 div.sk-toggleable {background-color: white;}#sk-container-id-2 label.sk-toggleable__label {cursor: pointer;display: block;width: 100%;margin-bottom: 0;padding: 0.3em;box-sizing: border-box;text-align: center;}#sk-container-id-2 label.sk-toggleable__label-arrow:before {content: \"▸\";float: left;margin-right: 0.25em;color: #696969;}#sk-container-id-2 label.sk-toggleable__label-arrow:hover:before {color: black;}#sk-container-id-2 div.sk-estimator:hover label.sk-toggleable__label-arrow:before {color: black;}#sk-container-id-2 div.sk-toggleable__content {max-height: 0;max-width: 0;overflow: hidden;text-align: left;background-color: #f0f8ff;}#sk-container-id-2 div.sk-toggleable__content pre {margin: 0.2em;color: black;border-radius: 0.25em;background-color: #f0f8ff;}#sk-container-id-2 input.sk-toggleable__control:checked~div.sk-toggleable__content {max-height: 200px;max-width: 100%;overflow: auto;}#sk-container-id-2 input.sk-toggleable__control:checked~label.sk-toggleable__label-arrow:before {content: \"▾\";}#sk-container-id-2 div.sk-estimator input.sk-toggleable__control:checked~label.sk-toggleable__label {background-color: #d4ebff;}#sk-container-id-2 div.sk-label input.sk-toggleable__control:checked~label.sk-toggleable__label {background-color: #d4ebff;}#sk-container-id-2 input.sk-hidden--visually {border: 0;clip: rect(1px 1px 1px 1px);clip: rect(1px, 1px, 1px, 1px);height: 1px;margin: -1px;overflow: hidden;padding: 0;position: absolute;width: 1px;}#sk-container-id-2 div.sk-estimator {font-family: monospace;background-color: #f0f8ff;border: 1px dotted black;border-radius: 0.25em;box-sizing: border-box;margin-bottom: 0.5em;}#sk-container-id-2 div.sk-estimator:hover {background-color: #d4ebff;}#sk-container-id-2 div.sk-parallel-item::after {content: \"\";width: 100%;border-bottom: 1px solid gray;flex-grow: 1;}#sk-container-id-2 div.sk-label:hover label.sk-toggleable__label {background-color: #d4ebff;}#sk-container-id-2 div.sk-serial::before {content: \"\";position: absolute;border-left: 1px solid gray;box-sizing: border-box;top: 0;bottom: 0;left: 50%;z-index: 0;}#sk-container-id-2 div.sk-serial {display: flex;flex-direction: column;align-items: center;background-color: white;padding-right: 0.2em;padding-left: 0.2em;position: relative;}#sk-container-id-2 div.sk-item {position: relative;z-index: 1;}#sk-container-id-2 div.sk-parallel {display: flex;align-items: stretch;justify-content: center;background-color: white;position: relative;}#sk-container-id-2 div.sk-item::before, #sk-container-id-2 div.sk-parallel-item::before {content: \"\";position: absolute;border-left: 1px solid gray;box-sizing: border-box;top: 0;bottom: 0;left: 50%;z-index: -1;}#sk-container-id-2 div.sk-parallel-item {display: flex;flex-direction: column;z-index: 1;position: relative;background-color: white;}#sk-container-id-2 div.sk-parallel-item:first-child::after {align-self: flex-end;width: 50%;}#sk-container-id-2 div.sk-parallel-item:last-child::after {align-self: flex-start;width: 50%;}#sk-container-id-2 div.sk-parallel-item:only-child::after {width: 0;}#sk-container-id-2 div.sk-dashed-wrapped {border: 1px dashed gray;margin: 0 0.4em 0.5em 0.4em;box-sizing: border-box;padding-bottom: 0.4em;background-color: white;}#sk-container-id-2 div.sk-label label {font-family: monospace;font-weight: bold;display: inline-block;line-height: 1.2em;}#sk-container-id-2 div.sk-label-container {text-align: center;}#sk-container-id-2 div.sk-container {/* jupyter's `normalize.less` sets `[hidden] { display: none; }` but bootstrap.min.css set `[hidden] { display: none !important; }` so we also need the `!important` here to be able to override the default hidden behavior on the sphinx rendered scikit-learn.org. See: https://github.com/scikit-learn/scikit-learn/issues/21755 */display: inline-block !important;position: relative;}#sk-container-id-2 div.sk-text-repr-fallback {display: none;}</style><div id=\"sk-container-id-2\" class=\"sk-top-container\"><div class=\"sk-text-repr-fallback\"><pre>VotingClassifier(estimators=[(&#x27;knn&#x27;, KNeighborsClassifier(n_neighbors=3)),\n",
              "                             (&#x27;svm&#x27;, SVC(C=100, kernel=&#x27;linear&#x27;)),\n",
              "                             (&#x27;dt&#x27;,\n",
              "                              DecisionTreeClassifier(max_depth=5,\n",
              "                                                     min_samples_leaf=2,\n",
              "                                                     min_samples_split=4)),\n",
              "                             (&#x27;rna&#x27;,\n",
              "                              MLPClassifier(activation=&#x27;identity&#x27;,\n",
              "                                            hidden_layer_sizes=(20,),\n",
              "                                            max_iter=500, solver=&#x27;sgd&#x27;,\n",
              "                                            tol=0.001))])</pre><b>In a Jupyter environment, please rerun this cell to show the HTML representation or trust the notebook. <br />On GitHub, the HTML representation is unable to render, please try loading this page with nbviewer.org.</b></div><div class=\"sk-container\" hidden><div class=\"sk-item sk-dashed-wrapped\"><div class=\"sk-label-container\"><div class=\"sk-label sk-toggleable\"><input class=\"sk-toggleable__control sk-hidden--visually\" id=\"sk-estimator-id-7\" type=\"checkbox\" ><label for=\"sk-estimator-id-7\" class=\"sk-toggleable__label sk-toggleable__label-arrow\">VotingClassifier</label><div class=\"sk-toggleable__content\"><pre>VotingClassifier(estimators=[(&#x27;knn&#x27;, KNeighborsClassifier(n_neighbors=3)),\n",
              "                             (&#x27;svm&#x27;, SVC(C=100, kernel=&#x27;linear&#x27;)),\n",
              "                             (&#x27;dt&#x27;,\n",
              "                              DecisionTreeClassifier(max_depth=5,\n",
              "                                                     min_samples_leaf=2,\n",
              "                                                     min_samples_split=4)),\n",
              "                             (&#x27;rna&#x27;,\n",
              "                              MLPClassifier(activation=&#x27;identity&#x27;,\n",
              "                                            hidden_layer_sizes=(20,),\n",
              "                                            max_iter=500, solver=&#x27;sgd&#x27;,\n",
              "                                            tol=0.001))])</pre></div></div></div><div class=\"sk-parallel\"><div class=\"sk-parallel-item\"><div class=\"sk-item\"><div class=\"sk-label-container\"><div class=\"sk-label sk-toggleable\"><label>knn</label></div></div><div class=\"sk-serial\"><div class=\"sk-item\"><div class=\"sk-estimator sk-toggleable\"><input class=\"sk-toggleable__control sk-hidden--visually\" id=\"sk-estimator-id-8\" type=\"checkbox\" ><label for=\"sk-estimator-id-8\" class=\"sk-toggleable__label sk-toggleable__label-arrow\">KNeighborsClassifier</label><div class=\"sk-toggleable__content\"><pre>KNeighborsClassifier(n_neighbors=3)</pre></div></div></div></div></div></div><div class=\"sk-parallel-item\"><div class=\"sk-item\"><div class=\"sk-label-container\"><div class=\"sk-label sk-toggleable\"><label>svm</label></div></div><div class=\"sk-serial\"><div class=\"sk-item\"><div class=\"sk-estimator sk-toggleable\"><input class=\"sk-toggleable__control sk-hidden--visually\" id=\"sk-estimator-id-9\" type=\"checkbox\" ><label for=\"sk-estimator-id-9\" class=\"sk-toggleable__label sk-toggleable__label-arrow\">SVC</label><div class=\"sk-toggleable__content\"><pre>SVC(C=100, kernel=&#x27;linear&#x27;)</pre></div></div></div></div></div></div><div class=\"sk-parallel-item\"><div class=\"sk-item\"><div class=\"sk-label-container\"><div class=\"sk-label sk-toggleable\"><label>dt</label></div></div><div class=\"sk-serial\"><div class=\"sk-item\"><div class=\"sk-estimator sk-toggleable\"><input class=\"sk-toggleable__control sk-hidden--visually\" id=\"sk-estimator-id-10\" type=\"checkbox\" ><label for=\"sk-estimator-id-10\" class=\"sk-toggleable__label sk-toggleable__label-arrow\">DecisionTreeClassifier</label><div class=\"sk-toggleable__content\"><pre>DecisionTreeClassifier(max_depth=5, min_samples_leaf=2, min_samples_split=4)</pre></div></div></div></div></div></div><div class=\"sk-parallel-item\"><div class=\"sk-item\"><div class=\"sk-label-container\"><div class=\"sk-label sk-toggleable\"><label>rna</label></div></div><div class=\"sk-serial\"><div class=\"sk-item\"><div class=\"sk-estimator sk-toggleable\"><input class=\"sk-toggleable__control sk-hidden--visually\" id=\"sk-estimator-id-11\" type=\"checkbox\" ><label for=\"sk-estimator-id-11\" class=\"sk-toggleable__label sk-toggleable__label-arrow\">MLPClassifier</label><div class=\"sk-toggleable__content\"><pre>MLPClassifier(activation=&#x27;identity&#x27;, hidden_layer_sizes=(20,), max_iter=500,\n",
              "              solver=&#x27;sgd&#x27;, tol=0.001)</pre></div></div></div></div></div></div></div></div></div></div>"
            ]
          },
          "metadata": {},
          "execution_count": 41
        }
      ]
    },
    {
      "cell_type": "code",
      "source": [
        "# Fazendo as previsões no conjunto de testes\n",
        "y_pred = ensemble_voting.predict(xtest)\n",
        "print(\"> Voting metrícas: \", metrics.accuracy_score(ytest, y_pred))\n",
        "print(classification_report(ytest, y_pred, target_names=target_names, zero_division=0))"
      ],
      "metadata": {
        "colab": {
          "base_uri": "https://localhost:8080/"
        },
        "id": "WUO-W2ykpMn-",
        "outputId": "90de0429-0cc4-44a4-f455-9d8ab216fc80"
      },
      "execution_count": null,
      "outputs": [
        {
          "output_type": "stream",
          "name": "stdout",
          "text": [
            "> Voting metrícas:  0.8823529411764706\n",
            "              precision    recall  f1-score   support\n",
            "\n",
            "       M. I.       0.82      0.97      0.89       119\n",
            "       I. E.       0.94      0.88      0.91       148\n",
            "       I. R.       1.00      0.45      0.62        22\n",
            "\n",
            "    accuracy                           0.88       289\n",
            "   macro avg       0.92      0.77      0.81       289\n",
            "weighted avg       0.89      0.88      0.88       289\n",
            "\n"
          ]
        }
      ]
    },
    {
      "cell_type": "code",
      "source": [
        "# Avaliando a performance do modelo ensemble\n",
        "accuracy = ensemble_voting.score(xtest, ytest)\n",
        "print('Acurácia: {:.2f}%'.format(accuracy*100))"
      ],
      "metadata": {
        "colab": {
          "base_uri": "https://localhost:8080/"
        },
        "id": "_vb-I-H-pUC0",
        "outputId": "c80b12c7-fe7c-4697-db59-d23f82f1b1e2"
      },
      "execution_count": null,
      "outputs": [
        {
          "output_type": "stream",
          "name": "stdout",
          "text": [
            "Acurácia: 88.24%\n"
          ]
        }
      ]
    },
    {
      "cell_type": "code",
      "source": [
        "voiting_knn = VotingClassifier(estimators=estimators, voting='hard')\n",
        "voiting_svm = VotingClassifier(estimators=estimators, voting='hard')\n",
        "voiting_dt = VotingClassifier(estimators=estimators, voting='hard')\n",
        "voiting_rna = VotingClassifier(estimators=estimators, voting='hard')"
      ],
      "metadata": {
        "id": "RJ3tobTHnZZS"
      },
      "execution_count": null,
      "outputs": []
    },
    {
      "cell_type": "code",
      "source": [
        "#knn\n",
        "voiting_knn.fit(xtrain,ytrain)\n",
        "y_pred = voiting_knn.predict(xtest)\n",
        "print(\"> KNN \", metrics.accuracy_score(ytest, y_pred))\n",
        "print(classification_report(ytest, y_pred, target_names=target_names, zero_division=0))"
      ],
      "metadata": {
        "colab": {
          "base_uri": "https://localhost:8080/"
        },
        "id": "eS-gn-iJpnIl",
        "outputId": "a44b88d4-23e3-42c3-ad08-ce350dc2d126"
      },
      "execution_count": null,
      "outputs": [
        {
          "output_type": "stream",
          "name": "stdout",
          "text": [
            "> KNN  0.889273356401384\n",
            "              precision    recall  f1-score   support\n",
            "\n",
            "       M. I.       0.83      0.97      0.89       119\n",
            "       I. E.       0.94      0.88      0.91       148\n",
            "       I. R.       1.00      0.55      0.71        22\n",
            "\n",
            "    accuracy                           0.89       289\n",
            "   macro avg       0.92      0.80      0.84       289\n",
            "weighted avg       0.90      0.89      0.89       289\n",
            "\n"
          ]
        }
      ]
    },
    {
      "cell_type": "code",
      "source": [
        "#svm\n",
        "voiting_svm.fit(xtrain,ytrain)\n",
        "y_pred = voiting_svm.predict(xtest)\n",
        "print(\"> SVM \", metrics.accuracy_score(ytest, y_pred))\n",
        "print(classification_report(ytest, y_pred, target_names=target_names, zero_division=0))"
      ],
      "metadata": {
        "colab": {
          "base_uri": "https://localhost:8080/"
        },
        "id": "KR5ahgSboFSB",
        "outputId": "26fabd2e-9c03-424a-bef9-1a6866382002"
      },
      "execution_count": null,
      "outputs": [
        {
          "output_type": "stream",
          "name": "stdout",
          "text": [
            "> SVM  0.8858131487889274\n",
            "              precision    recall  f1-score   support\n",
            "\n",
            "       M. I.       0.83      0.97      0.89       119\n",
            "       I. E.       0.94      0.88      0.91       148\n",
            "       I. R.       1.00      0.50      0.67        22\n",
            "\n",
            "    accuracy                           0.89       289\n",
            "   macro avg       0.92      0.78      0.82       289\n",
            "weighted avg       0.90      0.89      0.88       289\n",
            "\n"
          ]
        }
      ]
    },
    {
      "cell_type": "code",
      "source": [
        "#Árvore de decisão\n",
        "voiting_dt.fit(xtrain,ytrain)\n",
        "y_pred = voiting_dt.predict(xtest)\n",
        "print(\"> DT \", metrics.accuracy_score(ytest, y_pred))\n",
        "print(classification_report(ytest, y_pred, target_names=target_names, zero_division=0))"
      ],
      "metadata": {
        "colab": {
          "base_uri": "https://localhost:8080/"
        },
        "id": "G2jhtvK7rIHF",
        "outputId": "be3526ce-9075-4013-e8da-c9cd1f4de463"
      },
      "execution_count": null,
      "outputs": [
        {
          "output_type": "stream",
          "name": "stdout",
          "text": [
            "> DT  0.8823529411764706\n",
            "              precision    recall  f1-score   support\n",
            "\n",
            "       M. I.       0.82      0.97      0.89       119\n",
            "       I. E.       0.94      0.88      0.91       148\n",
            "       I. R.       1.00      0.45      0.62        22\n",
            "\n",
            "    accuracy                           0.88       289\n",
            "   macro avg       0.92      0.77      0.81       289\n",
            "weighted avg       0.89      0.88      0.88       289\n",
            "\n"
          ]
        }
      ]
    },
    {
      "cell_type": "code",
      "source": [
        "#Redes neurais\n",
        "voiting_rna.fit(xtrain,ytrain)\n",
        "y_pred = voiting_rna.predict(xtest)\n",
        "print(\"> RNA \", metrics.accuracy_score(ytest, y_pred))\n",
        "print (classification_report(ytest, y_pred, target_names=target_names, zero_division=0))"
      ],
      "metadata": {
        "colab": {
          "base_uri": "https://localhost:8080/"
        },
        "id": "9NUH3SUurMr9",
        "outputId": "b7cd9b97-5406-4f58-ac2c-d874075a34b7"
      },
      "execution_count": null,
      "outputs": [
        {
          "output_type": "stream",
          "name": "stdout",
          "text": [
            "> RNA  0.889273356401384\n",
            "              precision    recall  f1-score   support\n",
            "\n",
            "       M. I.       0.83      0.97      0.89       119\n",
            "       I. E.       0.94      0.88      0.91       148\n",
            "       I. R.       1.00      0.55      0.71        22\n",
            "\n",
            "    accuracy                           0.89       289\n",
            "   macro avg       0.92      0.80      0.84       289\n",
            "weighted avg       0.90      0.89      0.89       289\n",
            "\n"
          ]
        }
      ]
    },
    {
      "cell_type": "code",
      "source": [
        " [\n",
        "            ('knn',knn),\n",
        "            ('svm',svm),\n",
        "            ('dt',dt),\n",
        "            ('rna',rna),\n",
        "            ]"
      ],
      "metadata": {
        "colab": {
          "base_uri": "https://localhost:8080/"
        },
        "id": "6SMR4Fems3F_",
        "outputId": "fabb4d71-311a-4f2f-bc03-d6497e85f328"
      },
      "execution_count": null,
      "outputs": [
        {
          "output_type": "execute_result",
          "data": {
            "text/plain": [
              "[('knn', KNeighborsClassifier(n_neighbors=3)),\n",
              " ('svm', SVC(C=100, kernel='linear')),\n",
              " ('dt',\n",
              "  DecisionTreeClassifier(max_depth=5, min_samples_leaf=2, min_samples_split=4)),\n",
              " ('rna',\n",
              "  MLPClassifier(activation='identity', hidden_layer_sizes=(20,), max_iter=500,\n",
              "                solver='sgd', tol=0.001))]"
            ]
          },
          "metadata": {},
          "execution_count": 49
        }
      ]
    },
    {
      "cell_type": "code",
      "source": [
        "# Realizar a validação cruzada com o ensemble Voting e os modelos individuais\n",
        "for clf, label in zip([knn, svm, dt, rna, ensemble_voting], ['KNN', 'SVM', 'DT', 'RNA', 'Ensemble Voting']):\n",
        "    scores = cross_val_score(clf, X, Y, cv=10, scoring='accuracy')\n",
        "    print(\"Accuracy: %0.2f (+/- %0.2f) [%s]\" % (scores.mean(), scores.std(), label))\n",
        "\n",
        "# Gerar o gráfico de barras com as acurácias dos modelos\n",
        "plt.figure(figsize=(8, 6))\n",
        "plt.bar(['KNN', 'SVM', 'DT', 'RNA', 'Ensemble Voting'], [0.83, 0.89, 0.84, 0.88, 0.91])\n",
        "plt.ylim(0.8, 0.95)\n",
        "plt.title('Acurácia dos modelos')\n",
        "plt.xlabel('Modelo')\n",
        "plt.ylabel('Acurácia')\n",
        "plt.show()"
      ],
      "metadata": {
        "colab": {
          "base_uri": "https://localhost:8080/",
          "height": 490
        },
        "id": "Oy9HMuLtsuvY",
        "outputId": "c5ec8597-607d-4f73-bd44-be7ab4f6bc79"
      },
      "execution_count": null,
      "outputs": [
        {
          "output_type": "stream",
          "name": "stdout",
          "text": [
            "Accuracy: 0.90 (+/- 0.04) [KNN]\n",
            "Accuracy: 0.88 (+/- 0.05) [SVM]\n",
            "Accuracy: 0.86 (+/- 0.05) [DT]\n",
            "Accuracy: 0.83 (+/- 0.07) [RNA]\n",
            "Accuracy: 0.88 (+/- 0.07) [Ensemble Voting]\n"
          ]
        },
        {
          "output_type": "display_data",
          "data": {
            "text/plain": [
              "<Figure size 576x432 with 1 Axes>"
            ],
            "image/png": "[encoded data removed]"
          },
          "metadata": {
            "needs_background": "light"
          }
        }
      ]
    }
  ]
}